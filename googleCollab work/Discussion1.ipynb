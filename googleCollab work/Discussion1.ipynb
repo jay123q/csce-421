{
  "cells": [
    {
      "cell_type": "markdown",
      "metadata": {
        "id": "8Mv1GzwmHCiF"
      },
      "source": [
        "## Data Type"
      ]
    },
    {
      "cell_type": "markdown",
      "metadata": {
        "id": "E8pcvCrLHCiM"
      },
      "source": [
        "### Continuous vs discrete"
      ]
    },
    {
      "cell_type": "markdown",
      "metadata": {
        "id": "JBhT3LlOHCiN"
      },
      "source": [
        "Continuous data can be any number (some times have limitations). E.g. a person's blood pressure (Diastolic) can be 65, 65.1, 65.11, 65.111,... "
      ]
    },
    {
      "cell_type": "markdown",
      "metadata": {
        "id": "qJC9w3snHCiO"
      },
      "source": [
        "Discrete data can only be some number. E.g. age"
      ]
    },
    {
      "cell_type": "markdown",
      "metadata": {
        "id": "ezUQmb13HCiO"
      },
      "source": [
        "**Data type:** Continuous data is usually float, and discrete data can be int or float"
      ]
    },
    {
      "cell_type": "markdown",
      "metadata": {
        "id": "CW05PFSbHCiP"
      },
      "source": [
        "### Data type convert"
      ]
    },
    {
      "cell_type": "code",
      "execution_count": null,
      "metadata": {
        "colab": {
          "base_uri": "https://localhost:8080/"
        },
        "id": "8a4s6MVLHCiQ",
        "outputId": "06872faf-274c-4d1b-ad85-b519b94432c0"
      },
      "outputs": [
        {
          "output_type": "execute_result",
          "data": {
            "text/plain": [
              "array([1, 1, 0, 1, 1, 1, 0, 1, 1, 0])"
            ]
          },
          "metadata": {},
          "execution_count": 8
        }
      ],
      "source": [
        "import numpy as np\n",
        "data = np.random.randint(2, size=10)\n",
        "data"
      ]
    },
    {
      "cell_type": "code",
      "execution_count": null,
      "metadata": {
        "colab": {
          "base_uri": "https://localhost:8080/"
        },
        "id": "lawMXtI1HCiS",
        "outputId": "80dcd311-5b8f-400d-e1ed-c46d48e1084b"
      },
      "outputs": [
        {
          "output_type": "execute_result",
          "data": {
            "text/plain": [
              "dtype('int64')"
            ]
          },
          "metadata": {},
          "execution_count": 9
        }
      ],
      "source": [
        "data.dtype"
      ]
    },
    {
      "cell_type": "markdown",
      "metadata": {
        "id": "erHdEfxkHCiU"
      },
      "source": [
        "\"python convert int array to float\""
      ]
    },
    {
      "cell_type": "code",
      "execution_count": null,
      "metadata": {
        "colab": {
          "base_uri": "https://localhost:8080/"
        },
        "id": "PMooQOmDHCiV",
        "outputId": "ced71a44-34d6-4aa1-bd0d-d831dd8e4994"
      },
      "outputs": [
        {
          "output_type": "execute_result",
          "data": {
            "text/plain": [
              "array([1., 1., 0., 1., 1., 1., 0., 1., 1., 0.])"
            ]
          },
          "metadata": {},
          "execution_count": 10
        }
      ],
      "source": [
        "data2 = data.astype(float)\n",
        "data2"
      ]
    },
    {
      "cell_type": "code",
      "execution_count": null,
      "metadata": {
        "colab": {
          "base_uri": "https://localhost:8080/"
        },
        "id": "6tJA73QzHCiW",
        "outputId": "b5ecaec1-0825-4796-f6a6-269c80893987"
      },
      "outputs": [
        {
          "output_type": "execute_result",
          "data": {
            "text/plain": [
              "dtype('float64')"
            ]
          },
          "metadata": {},
          "execution_count": 11
        }
      ],
      "source": [
        "data2.dtype"
      ]
    },
    {
      "cell_type": "markdown",
      "metadata": {
        "id": "al6bUuCZHCiX"
      },
      "source": [
        "### Categorical Data"
      ]
    },
    {
      "cell_type": "markdown",
      "metadata": {
        "id": "JjC6hPnyHCiX"
      },
      "source": [
        "There are only limited options of the data. E.g. a student's grade can only be ['A', 'B', 'C', 'D', 'E', 'F']; is today raining can only be ['Yes', 'No']"
      ]
    },
    {
      "cell_type": "markdown",
      "metadata": {
        "id": "T_JGmq_8HCiY"
      },
      "source": [
        "**Data type:** Categorical data can be string, int, or float"
      ]
    },
    {
      "cell_type": "markdown",
      "metadata": {
        "id": "2t5QsM_dHCiY"
      },
      "source": [
        "**One-hot encoding:** A vector to represent the categorical data. The dimension of the vector is the total number of all the options/categories. In the vector, only one element is 1 and all the others are 0. The same value/category will always have the same vector."
      ]
    },
    {
      "cell_type": "markdown",
      "metadata": {
        "id": "LovwJlCeHCiZ"
      },
      "source": [
        "Example: ['A', 'B', 'C', 'D', 'E', 'F']"
      ]
    },
    {
      "cell_type": "markdown",
      "metadata": {
        "id": "7hn-YEd9HCiZ"
      },
      "source": [
        "Total size: 6"
      ]
    },
    {
      "cell_type": "markdown",
      "metadata": {
        "id": "GVVgY26sHCia"
      },
      "source": [
        "'A' --> [1, 0, 0, 0, 0, 0]"
      ]
    },
    {
      "cell_type": "markdown",
      "metadata": {
        "id": "EdrfYAhiHCia"
      },
      "source": [
        "'B' --> [0, 1, 0, 0, 0, 0]"
      ]
    },
    {
      "cell_type": "markdown",
      "metadata": {
        "id": "FBzj-mqyHCib"
      },
      "source": [
        "'C' --> [0, 0, 1, 0, 0, 0]"
      ]
    },
    {
      "cell_type": "markdown",
      "metadata": {
        "id": "ntXUijbkHCib"
      },
      "source": [
        "'D' --> [0, 0, 0, 1, 0, 0]"
      ]
    },
    {
      "cell_type": "markdown",
      "metadata": {
        "id": "QaTbnHuuHCic"
      },
      "source": [
        "'E' --> [0, 0, 0, 0, 1, 0]"
      ]
    },
    {
      "cell_type": "markdown",
      "metadata": {
        "id": "Dl23q-SGHCic"
      },
      "source": [
        "'F' --> [0, 0, 0, 0, 0, 1]"
      ]
    },
    {
      "cell_type": "markdown",
      "metadata": {
        "id": "jK0dvyFuHCid"
      },
      "source": [
        "### Convert data to one-hot"
      ]
    },
    {
      "cell_type": "code",
      "execution_count": null,
      "metadata": {
        "colab": {
          "base_uri": "https://localhost:8080/"
        },
        "id": "JxR1zQSYHCid",
        "outputId": "90409cbf-9eb8-4d9c-be22-9442d46be2fa"
      },
      "outputs": [
        {
          "output_type": "execute_result",
          "data": {
            "text/plain": [
              "['yes', 'yes', 'no', 'no', 'yes', 'yes', 'no', 'no', 'yes', 'yes']"
            ]
          },
          "metadata": {},
          "execution_count": 23
        }
      ],
      "source": [
        "import random\n",
        "label = random.choices(['yes', 'no'], k=10)\n",
        "label"
      ]
    },
    {
      "cell_type": "code",
      "execution_count": null,
      "metadata": {
        "colab": {
          "base_uri": "https://localhost:8080/",
          "height": 416
        },
        "id": "0xMhDv2FHCie",
        "outputId": "01241414-3753-4c32-eb96-3121759f8801"
      },
      "outputs": [
        {
          "output_type": "error",
          "ename": "ValueError",
          "evalue": "ignored",
          "traceback": [
            "\u001b[0;31m---------------------------------------------------------------------------\u001b[0m",
            "\u001b[0;31mValueError\u001b[0m                                Traceback (most recent call last)",
            "\u001b[0;32m<ipython-input-24-9adaea14f971>\u001b[0m in \u001b[0;36m<module>\u001b[0;34m\u001b[0m\n\u001b[1;32m      1\u001b[0m \u001b[0;32mfrom\u001b[0m \u001b[0msklearn\u001b[0m\u001b[0;34m.\u001b[0m\u001b[0mpreprocessing\u001b[0m \u001b[0;32mimport\u001b[0m \u001b[0mOneHotEncoder\u001b[0m\u001b[0;34m\u001b[0m\u001b[0;34m\u001b[0m\u001b[0m\n\u001b[1;32m      2\u001b[0m \u001b[0menc\u001b[0m \u001b[0;34m=\u001b[0m \u001b[0mOneHotEncoder\u001b[0m\u001b[0;34m(\u001b[0m\u001b[0;34m)\u001b[0m\u001b[0;34m\u001b[0m\u001b[0;34m\u001b[0m\u001b[0m\n\u001b[0;32m----> 3\u001b[0;31m \u001b[0mlabel\u001b[0m \u001b[0;34m=\u001b[0m \u001b[0menc\u001b[0m\u001b[0;34m.\u001b[0m\u001b[0mfit_transform\u001b[0m\u001b[0;34m(\u001b[0m\u001b[0mlabel\u001b[0m\u001b[0;34m)\u001b[0m\u001b[0;34m\u001b[0m\u001b[0;34m\u001b[0m\u001b[0m\n\u001b[0m\u001b[1;32m      4\u001b[0m \u001b[0mlabel\u001b[0m\u001b[0;34m\u001b[0m\u001b[0;34m\u001b[0m\u001b[0m\n",
            "\u001b[0;32m/usr/local/lib/python3.8/dist-packages/sklearn/preprocessing/_encoders.py\u001b[0m in \u001b[0;36mfit_transform\u001b[0;34m(self, X, y)\u001b[0m\n\u001b[1;32m    486\u001b[0m         \"\"\"\n\u001b[1;32m    487\u001b[0m         \u001b[0mself\u001b[0m\u001b[0;34m.\u001b[0m\u001b[0m_validate_keywords\u001b[0m\u001b[0;34m(\u001b[0m\u001b[0;34m)\u001b[0m\u001b[0;34m\u001b[0m\u001b[0;34m\u001b[0m\u001b[0m\n\u001b[0;32m--> 488\u001b[0;31m         \u001b[0;32mreturn\u001b[0m \u001b[0msuper\u001b[0m\u001b[0;34m(\u001b[0m\u001b[0;34m)\u001b[0m\u001b[0;34m.\u001b[0m\u001b[0mfit_transform\u001b[0m\u001b[0;34m(\u001b[0m\u001b[0mX\u001b[0m\u001b[0;34m,\u001b[0m \u001b[0my\u001b[0m\u001b[0;34m)\u001b[0m\u001b[0;34m\u001b[0m\u001b[0;34m\u001b[0m\u001b[0m\n\u001b[0m\u001b[1;32m    489\u001b[0m \u001b[0;34m\u001b[0m\u001b[0m\n\u001b[1;32m    490\u001b[0m     \u001b[0;32mdef\u001b[0m \u001b[0mtransform\u001b[0m\u001b[0;34m(\u001b[0m\u001b[0mself\u001b[0m\u001b[0;34m,\u001b[0m \u001b[0mX\u001b[0m\u001b[0;34m)\u001b[0m\u001b[0;34m:\u001b[0m\u001b[0;34m\u001b[0m\u001b[0;34m\u001b[0m\u001b[0m\n",
            "\u001b[0;32m/usr/local/lib/python3.8/dist-packages/sklearn/base.py\u001b[0m in \u001b[0;36mfit_transform\u001b[0;34m(self, X, y, **fit_params)\u001b[0m\n\u001b[1;32m    850\u001b[0m         \u001b[0;32mif\u001b[0m \u001b[0my\u001b[0m \u001b[0;32mis\u001b[0m \u001b[0;32mNone\u001b[0m\u001b[0;34m:\u001b[0m\u001b[0;34m\u001b[0m\u001b[0;34m\u001b[0m\u001b[0m\n\u001b[1;32m    851\u001b[0m             \u001b[0;31m# fit method of arity 1 (unsupervised transformation)\u001b[0m\u001b[0;34m\u001b[0m\u001b[0;34m\u001b[0m\u001b[0;34m\u001b[0m\u001b[0m\n\u001b[0;32m--> 852\u001b[0;31m             \u001b[0;32mreturn\u001b[0m \u001b[0mself\u001b[0m\u001b[0;34m.\u001b[0m\u001b[0mfit\u001b[0m\u001b[0;34m(\u001b[0m\u001b[0mX\u001b[0m\u001b[0;34m,\u001b[0m \u001b[0;34m**\u001b[0m\u001b[0mfit_params\u001b[0m\u001b[0;34m)\u001b[0m\u001b[0;34m.\u001b[0m\u001b[0mtransform\u001b[0m\u001b[0;34m(\u001b[0m\u001b[0mX\u001b[0m\u001b[0;34m)\u001b[0m\u001b[0;34m\u001b[0m\u001b[0;34m\u001b[0m\u001b[0m\n\u001b[0m\u001b[1;32m    853\u001b[0m         \u001b[0;32melse\u001b[0m\u001b[0;34m:\u001b[0m\u001b[0;34m\u001b[0m\u001b[0;34m\u001b[0m\u001b[0m\n\u001b[1;32m    854\u001b[0m             \u001b[0;31m# fit method of arity 2 (supervised transformation)\u001b[0m\u001b[0;34m\u001b[0m\u001b[0;34m\u001b[0m\u001b[0;34m\u001b[0m\u001b[0m\n",
            "\u001b[0;32m/usr/local/lib/python3.8/dist-packages/sklearn/preprocessing/_encoders.py\u001b[0m in \u001b[0;36mfit\u001b[0;34m(self, X, y)\u001b[0m\n\u001b[1;32m    459\u001b[0m         \"\"\"\n\u001b[1;32m    460\u001b[0m         \u001b[0mself\u001b[0m\u001b[0;34m.\u001b[0m\u001b[0m_validate_keywords\u001b[0m\u001b[0;34m(\u001b[0m\u001b[0;34m)\u001b[0m\u001b[0;34m\u001b[0m\u001b[0;34m\u001b[0m\u001b[0m\n\u001b[0;32m--> 461\u001b[0;31m         \u001b[0mself\u001b[0m\u001b[0;34m.\u001b[0m\u001b[0m_fit\u001b[0m\u001b[0;34m(\u001b[0m\u001b[0mX\u001b[0m\u001b[0;34m,\u001b[0m \u001b[0mhandle_unknown\u001b[0m\u001b[0;34m=\u001b[0m\u001b[0mself\u001b[0m\u001b[0;34m.\u001b[0m\u001b[0mhandle_unknown\u001b[0m\u001b[0;34m,\u001b[0m \u001b[0mforce_all_finite\u001b[0m\u001b[0;34m=\u001b[0m\u001b[0;34m\"allow-nan\"\u001b[0m\u001b[0;34m)\u001b[0m\u001b[0;34m\u001b[0m\u001b[0;34m\u001b[0m\u001b[0m\n\u001b[0m\u001b[1;32m    462\u001b[0m         \u001b[0mself\u001b[0m\u001b[0;34m.\u001b[0m\u001b[0mdrop_idx_\u001b[0m \u001b[0;34m=\u001b[0m \u001b[0mself\u001b[0m\u001b[0;34m.\u001b[0m\u001b[0m_compute_drop_idx\u001b[0m\u001b[0;34m(\u001b[0m\u001b[0;34m)\u001b[0m\u001b[0;34m\u001b[0m\u001b[0;34m\u001b[0m\u001b[0m\n\u001b[1;32m    463\u001b[0m         \u001b[0;32mreturn\u001b[0m \u001b[0mself\u001b[0m\u001b[0;34m\u001b[0m\u001b[0;34m\u001b[0m\u001b[0m\n",
            "\u001b[0;32m/usr/local/lib/python3.8/dist-packages/sklearn/preprocessing/_encoders.py\u001b[0m in \u001b[0;36m_fit\u001b[0;34m(self, X, handle_unknown, force_all_finite)\u001b[0m\n\u001b[1;32m     75\u001b[0m         \u001b[0mself\u001b[0m\u001b[0;34m.\u001b[0m\u001b[0m_check_n_features\u001b[0m\u001b[0;34m(\u001b[0m\u001b[0mX\u001b[0m\u001b[0;34m,\u001b[0m \u001b[0mreset\u001b[0m\u001b[0;34m=\u001b[0m\u001b[0;32mTrue\u001b[0m\u001b[0;34m)\u001b[0m\u001b[0;34m\u001b[0m\u001b[0;34m\u001b[0m\u001b[0m\n\u001b[1;32m     76\u001b[0m         \u001b[0mself\u001b[0m\u001b[0;34m.\u001b[0m\u001b[0m_check_feature_names\u001b[0m\u001b[0;34m(\u001b[0m\u001b[0mX\u001b[0m\u001b[0;34m,\u001b[0m \u001b[0mreset\u001b[0m\u001b[0;34m=\u001b[0m\u001b[0;32mTrue\u001b[0m\u001b[0;34m)\u001b[0m\u001b[0;34m\u001b[0m\u001b[0;34m\u001b[0m\u001b[0m\n\u001b[0;32m---> 77\u001b[0;31m         X_list, n_samples, n_features = self._check_X(\n\u001b[0m\u001b[1;32m     78\u001b[0m             \u001b[0mX\u001b[0m\u001b[0;34m,\u001b[0m \u001b[0mforce_all_finite\u001b[0m\u001b[0;34m=\u001b[0m\u001b[0mforce_all_finite\u001b[0m\u001b[0;34m\u001b[0m\u001b[0;34m\u001b[0m\u001b[0m\n\u001b[1;32m     79\u001b[0m         )\n",
            "\u001b[0;32m/usr/local/lib/python3.8/dist-packages/sklearn/preprocessing/_encoders.py\u001b[0m in \u001b[0;36m_check_X\u001b[0;34m(self, X, force_all_finite)\u001b[0m\n\u001b[1;32m     42\u001b[0m         \u001b[0;32mif\u001b[0m \u001b[0;32mnot\u001b[0m \u001b[0;34m(\u001b[0m\u001b[0mhasattr\u001b[0m\u001b[0;34m(\u001b[0m\u001b[0mX\u001b[0m\u001b[0;34m,\u001b[0m \u001b[0;34m\"iloc\"\u001b[0m\u001b[0;34m)\u001b[0m \u001b[0;32mand\u001b[0m \u001b[0mgetattr\u001b[0m\u001b[0;34m(\u001b[0m\u001b[0mX\u001b[0m\u001b[0;34m,\u001b[0m \u001b[0;34m\"ndim\"\u001b[0m\u001b[0;34m,\u001b[0m \u001b[0;36m0\u001b[0m\u001b[0;34m)\u001b[0m \u001b[0;34m==\u001b[0m \u001b[0;36m2\u001b[0m\u001b[0;34m)\u001b[0m\u001b[0;34m:\u001b[0m\u001b[0;34m\u001b[0m\u001b[0;34m\u001b[0m\u001b[0m\n\u001b[1;32m     43\u001b[0m             \u001b[0;31m# if not a dataframe, do normal check_array validation\u001b[0m\u001b[0;34m\u001b[0m\u001b[0;34m\u001b[0m\u001b[0;34m\u001b[0m\u001b[0m\n\u001b[0;32m---> 44\u001b[0;31m             \u001b[0mX_temp\u001b[0m \u001b[0;34m=\u001b[0m \u001b[0mcheck_array\u001b[0m\u001b[0;34m(\u001b[0m\u001b[0mX\u001b[0m\u001b[0;34m,\u001b[0m \u001b[0mdtype\u001b[0m\u001b[0;34m=\u001b[0m\u001b[0;32mNone\u001b[0m\u001b[0;34m,\u001b[0m \u001b[0mforce_all_finite\u001b[0m\u001b[0;34m=\u001b[0m\u001b[0mforce_all_finite\u001b[0m\u001b[0;34m)\u001b[0m\u001b[0;34m\u001b[0m\u001b[0;34m\u001b[0m\u001b[0m\n\u001b[0m\u001b[1;32m     45\u001b[0m             \u001b[0;32mif\u001b[0m \u001b[0;32mnot\u001b[0m \u001b[0mhasattr\u001b[0m\u001b[0;34m(\u001b[0m\u001b[0mX\u001b[0m\u001b[0;34m,\u001b[0m \u001b[0;34m\"dtype\"\u001b[0m\u001b[0;34m)\u001b[0m \u001b[0;32mand\u001b[0m \u001b[0mnp\u001b[0m\u001b[0;34m.\u001b[0m\u001b[0missubdtype\u001b[0m\u001b[0;34m(\u001b[0m\u001b[0mX_temp\u001b[0m\u001b[0;34m.\u001b[0m\u001b[0mdtype\u001b[0m\u001b[0;34m,\u001b[0m \u001b[0mnp\u001b[0m\u001b[0;34m.\u001b[0m\u001b[0mstr_\u001b[0m\u001b[0;34m)\u001b[0m\u001b[0;34m:\u001b[0m\u001b[0;34m\u001b[0m\u001b[0;34m\u001b[0m\u001b[0m\n\u001b[1;32m     46\u001b[0m                 \u001b[0mX\u001b[0m \u001b[0;34m=\u001b[0m \u001b[0mcheck_array\u001b[0m\u001b[0;34m(\u001b[0m\u001b[0mX\u001b[0m\u001b[0;34m,\u001b[0m \u001b[0mdtype\u001b[0m\u001b[0;34m=\u001b[0m\u001b[0mobject\u001b[0m\u001b[0;34m,\u001b[0m \u001b[0mforce_all_finite\u001b[0m\u001b[0;34m=\u001b[0m\u001b[0mforce_all_finite\u001b[0m\u001b[0;34m)\u001b[0m\u001b[0;34m\u001b[0m\u001b[0;34m\u001b[0m\u001b[0m\n",
            "\u001b[0;32m/usr/local/lib/python3.8/dist-packages/sklearn/utils/validation.py\u001b[0m in \u001b[0;36mcheck_array\u001b[0;34m(array, accept_sparse, accept_large_sparse, dtype, order, copy, force_all_finite, ensure_2d, allow_nd, ensure_min_samples, ensure_min_features, estimator)\u001b[0m\n\u001b[1;32m    767\u001b[0m             \u001b[0;31m# If input is 1D raise error\u001b[0m\u001b[0;34m\u001b[0m\u001b[0;34m\u001b[0m\u001b[0;34m\u001b[0m\u001b[0m\n\u001b[1;32m    768\u001b[0m             \u001b[0;32mif\u001b[0m \u001b[0marray\u001b[0m\u001b[0;34m.\u001b[0m\u001b[0mndim\u001b[0m \u001b[0;34m==\u001b[0m \u001b[0;36m1\u001b[0m\u001b[0;34m:\u001b[0m\u001b[0;34m\u001b[0m\u001b[0;34m\u001b[0m\u001b[0m\n\u001b[0;32m--> 769\u001b[0;31m                 raise ValueError(\n\u001b[0m\u001b[1;32m    770\u001b[0m                     \u001b[0;34m\"Expected 2D array, got 1D array instead:\\narray={}.\\n\"\u001b[0m\u001b[0;34m\u001b[0m\u001b[0;34m\u001b[0m\u001b[0m\n\u001b[1;32m    771\u001b[0m                     \u001b[0;34m\"Reshape your data either using array.reshape(-1, 1) if \"\u001b[0m\u001b[0;34m\u001b[0m\u001b[0;34m\u001b[0m\u001b[0m\n",
            "\u001b[0;31mValueError\u001b[0m: Expected 2D array, got 1D array instead:\narray=['yes' 'yes' 'no' 'no' 'yes' 'yes' 'no' 'no' 'yes' 'yes'].\nReshape your data either using array.reshape(-1, 1) if your data has a single feature or array.reshape(1, -1) if it contains a single sample."
          ]
        }
      ],
      "source": [
        "from sklearn.preprocessing import OneHotEncoder\n",
        "enc = OneHotEncoder()\n",
        "label = enc.fit_transform(label)\n",
        "label"
      ]
    },
    {
      "cell_type": "code",
      "execution_count": null,
      "metadata": {
        "colab": {
          "base_uri": "https://localhost:8080/"
        },
        "id": "bfm5RAOYHCie",
        "outputId": "a5c365a4-19bb-46b3-cd3c-0bf84cbd5fbf"
      },
      "outputs": [
        {
          "output_type": "execute_result",
          "data": {
            "text/plain": [
              "array([['yes'],\n",
              "       ['yes'],\n",
              "       ['no'],\n",
              "       ['no'],\n",
              "       ['yes'],\n",
              "       ['yes'],\n",
              "       ['no'],\n",
              "       ['no'],\n",
              "       ['yes'],\n",
              "       ['yes']], dtype='<U3')"
            ]
          },
          "metadata": {},
          "execution_count": 25
        }
      ],
      "source": [
        "import numpy as np\n",
        "label = np.expand_dims(label, -1)\n",
        "label"
      ]
    },
    {
      "cell_type": "code",
      "execution_count": null,
      "metadata": {
        "colab": {
          "base_uri": "https://localhost:8080/"
        },
        "id": "t6pas0Q3HCif",
        "outputId": "83e80f1d-706c-4f56-da3a-ee290ea20cba"
      },
      "outputs": [
        {
          "output_type": "stream",
          "name": "stdout",
          "text": [
            "[[0. 1.]\n",
            " [0. 1.]\n",
            " [1. 0.]\n",
            " [1. 0.]\n",
            " [0. 1.]\n",
            " [0. 1.]\n",
            " [1. 0.]\n",
            " [1. 0.]\n",
            " [0. 1.]\n",
            " [0. 1.]]\n"
          ]
        }
      ],
      "source": [
        "label_one_hot = enc.fit_transform(label).toarray()\n",
        "print(label_one_hot)"
      ]
    },
    {
      "cell_type": "code",
      "execution_count": null,
      "metadata": {
        "colab": {
          "base_uri": "https://localhost:8080/"
        },
        "id": "uIoPFw-uHCig",
        "outputId": "f67eaf8b-22c7-4510-fa8b-48a20fa66b42"
      },
      "outputs": [
        {
          "output_type": "stream",
          "name": "stdout",
          "text": [
            "['A', 'F', 'E', 'C', 'F', 'E', 'F', 'E', 'B', 'A']\n",
            "{'C', 'E', 'B', 'F', 'A'}\n"
          ]
        }
      ],
      "source": [
        "label = random.choices(['A', 'B', 'C', 'D', 'E', 'F'], k=10)\n",
        "print(label)\n",
        "print(set(label))"
      ]
    },
    {
      "cell_type": "code",
      "execution_count": null,
      "metadata": {
        "colab": {
          "base_uri": "https://localhost:8080/"
        },
        "id": "WMqVGop0HCih",
        "outputId": "1a806ac2-0c6c-4cf0-d2e3-0d44c30b902a"
      },
      "outputs": [
        {
          "output_type": "execute_result",
          "data": {
            "text/plain": [
              "array([['A'],\n",
              "       ['F'],\n",
              "       ['E'],\n",
              "       ['C'],\n",
              "       ['F'],\n",
              "       ['E'],\n",
              "       ['F'],\n",
              "       ['E'],\n",
              "       ['B'],\n",
              "       ['A']], dtype='<U1')"
            ]
          },
          "metadata": {},
          "execution_count": 28
        }
      ],
      "source": [
        "label = np.expand_dims(label, -1)\n",
        "label"
      ]
    },
    {
      "cell_type": "code",
      "execution_count": null,
      "metadata": {
        "colab": {
          "base_uri": "https://localhost:8080/"
        },
        "id": "RWmveXvaHCih",
        "outputId": "0a83421f-f2e1-4790-ccc3-56c0447b32c7"
      },
      "outputs": [
        {
          "output_type": "stream",
          "name": "stdout",
          "text": [
            "  (0, 0)\t1.0\n",
            "  (1, 4)\t1.0\n",
            "  (2, 3)\t1.0\n",
            "  (3, 2)\t1.0\n",
            "  (4, 4)\t1.0\n",
            "  (5, 3)\t1.0\n",
            "  (6, 4)\t1.0\n",
            "  (7, 3)\t1.0\n",
            "  (8, 1)\t1.0\n",
            "  (9, 0)\t1.0\n",
            "[[1. 0. 0. 0. 0.]\n",
            " [0. 0. 0. 0. 1.]\n",
            " [0. 0. 0. 1. 0.]\n",
            " [0. 0. 1. 0. 0.]\n",
            " [0. 0. 0. 0. 1.]\n",
            " [0. 0. 0. 1. 0.]\n",
            " [0. 0. 0. 0. 1.]\n",
            " [0. 0. 0. 1. 0.]\n",
            " [0. 1. 0. 0. 0.]\n",
            " [1. 0. 0. 0. 0.]]\n"
          ]
        }
      ],
      "source": [
        "label_one_hot = enc.fit_transform(label)\n",
        "print(label_one_hot)\n",
        "print(label_one_hot.toarray())"
      ]
    },
    {
      "cell_type": "markdown",
      "metadata": {
        "id": "oj2WURKeHCii"
      },
      "source": [
        "### Why one-hot"
      ]
    },
    {
      "cell_type": "markdown",
      "metadata": {
        "id": "KotdU4gUHCii"
      },
      "source": [
        "ML algoritm will predict a probability of each category \\\n",
        "Probability:[0.11, 0.20, **0.59**, 0.10]  (0.11 + 0.20 + 0.59 + 0.10 = 1)\\\n",
        "-> prediction: [0, 0, 1, 0] \\\n",
        "vs \\\n",
        "Ground truth: [0, 0, 1, 0]"
      ]
    },
    {
      "cell_type": "markdown",
      "metadata": {
        "id": "wdF_ikXbHCij"
      },
      "source": [
        "**Training goal:**\n",
        "[*0.11, 0.20,* **0.59**, *0.10*] -> [*0.01, 0.05,* **0.87**, *0.07*]"
      ]
    },
    {
      "cell_type": "markdown",
      "metadata": {
        "id": "K67x7BEzPWIA"
      },
      "source": [
        "## List vs Numpy Array"
      ]
    },
    {
      "cell_type": "markdown",
      "metadata": {
        "id": "9kVhdjH_Paji"
      },
      "source": [
        "### Defining lists and numpy array"
      ]
    },
    {
      "cell_type": "code",
      "execution_count": null,
      "metadata": {
        "colab": {
          "base_uri": "https://localhost:8080/"
        },
        "id": "0hqJsjD4HCil",
        "outputId": "2cf4dc53-3070-4ed1-a91a-6bde9d37b801"
      },
      "outputs": [
        {
          "output_type": "stream",
          "name": "stdout",
          "text": [
            "mylist: [0, 1, 2, 3, 4]\n",
            "<class 'list'>\n",
            "mylist2: [1, 2, 3, 4, 5]\n",
            "<class 'list'>\n"
          ]
        }
      ],
      "source": [
        "mylist = list(range(5))\n",
        "print(\"mylist:\", mylist)\n",
        "print(type(mylist))\n",
        "mylist2 = [1,2,3,4,5]\n",
        "print(\"mylist2:\", mylist2)\n",
        "print(type(mylist2))"
      ]
    },
    {
      "cell_type": "code",
      "execution_count": null,
      "metadata": {
        "colab": {
          "base_uri": "https://localhost:8080/"
        },
        "id": "IJ_kfn81HCil",
        "outputId": "e228a268-6a6c-44ef-dbc0-5efc21994ad3"
      },
      "outputs": [
        {
          "output_type": "stream",
          "name": "stdout",
          "text": [
            "myarray: [0 1 2 3 4]\n",
            "<class 'numpy.ndarray'>\n",
            "(5,)\n"
          ]
        }
      ],
      "source": [
        "import numpy as np\n",
        "myarray = np.array(mylist)\n",
        "print(\"myarray:\", myarray)\n",
        "print(type(myarray))"
      ]
    },
    {
      "cell_type": "markdown",
      "metadata": {
        "id": "6PBCTfQYPgVQ"
      },
      "source": [
        "### Accessing values"
      ]
    },
    {
      "cell_type": "code",
      "execution_count": null,
      "metadata": {
        "id": "4PpseowsPesf",
        "colab": {
          "base_uri": "https://localhost:8080/"
        },
        "outputId": "2c52b5af-1036-4537-d998-a49489570527"
      },
      "outputs": [
        {
          "output_type": "stream",
          "name": "stdout",
          "text": [
            "0\n",
            "0\n"
          ]
        }
      ],
      "source": [
        "print(mylist[0])\n",
        "print(myarray[0])"
      ]
    },
    {
      "cell_type": "markdown",
      "metadata": {
        "id": "JKr_OltFPph_"
      },
      "source": [
        "### Length and shape\n",
        "Number of elements in the list and array can be accessed by using len() function "
      ]
    },
    {
      "cell_type": "code",
      "execution_count": null,
      "metadata": {
        "id": "V2ifWC5JPm4h",
        "colab": {
          "base_uri": "https://localhost:8080/"
        },
        "outputId": "c677097f-93d9-42fe-e469-bea7f4f9f259"
      },
      "outputs": [
        {
          "output_type": "stream",
          "name": "stdout",
          "text": [
            "5\n",
            "5\n"
          ]
        }
      ],
      "source": [
        "print(len(mylist))\n",
        "print(len(myarray))"
      ]
    },
    {
      "cell_type": "code",
      "execution_count": null,
      "metadata": {
        "colab": {
          "base_uri": "https://localhost:8080/"
        },
        "id": "oigr6ZT1HCin",
        "outputId": "3977d446-16ac-4524-ad49-4f862af714f0"
      },
      "outputs": [
        {
          "output_type": "execute_result",
          "data": {
            "text/plain": [
              "(5,)"
            ]
          },
          "metadata": {},
          "execution_count": 35
        }
      ],
      "source": [
        "myarray.shape"
      ]
    },
    {
      "cell_type": "code",
      "execution_count": null,
      "metadata": {
        "colab": {
          "base_uri": "https://localhost:8080/",
          "height": 166
        },
        "id": "OZ0y19qxHCio",
        "outputId": "14e0badd-fce8-4564-990a-9e6970a30c85"
      },
      "outputs": [
        {
          "output_type": "error",
          "ename": "AttributeError",
          "evalue": "ignored",
          "traceback": [
            "\u001b[0;31m---------------------------------------------------------------------------\u001b[0m",
            "\u001b[0;31mAttributeError\u001b[0m                            Traceback (most recent call last)",
            "\u001b[0;32m<ipython-input-36-386879d2a565>\u001b[0m in \u001b[0;36m<module>\u001b[0;34m\u001b[0m\n\u001b[0;32m----> 1\u001b[0;31m \u001b[0mmylist\u001b[0m\u001b[0;34m.\u001b[0m\u001b[0mshape\u001b[0m\u001b[0;34m\u001b[0m\u001b[0;34m\u001b[0m\u001b[0m\n\u001b[0m",
            "\u001b[0;31mAttributeError\u001b[0m: 'list' object has no attribute 'shape'"
          ]
        }
      ],
      "source": [
        "mylist.shape"
      ]
    },
    {
      "cell_type": "markdown",
      "metadata": {
        "id": "VkS71aQNHCio"
      },
      "source": [
        "np.shape convert list to array first."
      ]
    },
    {
      "cell_type": "code",
      "execution_count": null,
      "metadata": {
        "colab": {
          "base_uri": "https://localhost:8080/"
        },
        "id": "yNICIXR8HCip",
        "outputId": "caeb6f6c-57f8-4206-a3a8-e5db97550a7b"
      },
      "outputs": [
        {
          "output_type": "stream",
          "name": "stdout",
          "text": [
            "(5,)\n",
            "(5,)\n"
          ]
        }
      ],
      "source": [
        "print(np.shape(myarray))\n",
        "print(np.shape(mylist))"
      ]
    },
    {
      "cell_type": "markdown",
      "metadata": {
        "id": "2_LkIgc1HCip"
      },
      "source": [
        "len() can only obtain the first dimensional element, shape can get all dimension in the array."
      ]
    },
    {
      "cell_type": "code",
      "execution_count": null,
      "metadata": {
        "colab": {
          "base_uri": "https://localhost:8080/"
        },
        "id": "d3hYkdI6HCip",
        "outputId": "324bca1c-a3b9-4600-fdb0-5746f3b192a3"
      },
      "outputs": [
        {
          "output_type": "stream",
          "name": "stdout",
          "text": [
            "(2, 3)\n",
            "2\n"
          ]
        }
      ],
      "source": [
        "a = np.array([[1,2,3], [4,5,6]])\n",
        "print(a.shape)\n",
        "print(len(a))"
      ]
    },
    {
      "cell_type": "markdown",
      "metadata": {
        "id": "hoTqsaNVHCiq"
      },
      "source": [
        "### Add elements"
      ]
    },
    {
      "cell_type": "code",
      "execution_count": null,
      "metadata": {
        "colab": {
          "base_uri": "https://localhost:8080/"
        },
        "id": "I9ipfMMUHCiq",
        "outputId": "1c063a56-1153-4127-942f-7f3b354242fd"
      },
      "outputs": [
        {
          "output_type": "stream",
          "name": "stdout",
          "text": [
            "[0, 1, 2, 3, 4, 100]\n"
          ]
        }
      ],
      "source": [
        "a = mylist\n",
        "a.append(100)\n",
        "print(a)"
      ]
    },
    {
      "cell_type": "code",
      "execution_count": null,
      "metadata": {
        "colab": {
          "base_uri": "https://localhost:8080/"
        },
        "id": "1thPHRABHCir",
        "outputId": "b40fb18b-30f9-4925-a00a-5ab292958c82"
      },
      "outputs": [
        {
          "output_type": "stream",
          "name": "stdout",
          "text": [
            "[0, 1, 2, 3, 4, 100, [7, 8, 9]]\n"
          ]
        }
      ],
      "source": [
        "a = mylist\n",
        "a.append([7,8,9])\n",
        "print(a)"
      ]
    },
    {
      "cell_type": "code",
      "execution_count": null,
      "metadata": {
        "colab": {
          "base_uri": "https://localhost:8080/"
        },
        "id": "rjW8z7avHCir",
        "outputId": "0a1c1730-c191-4bea-a35a-22e9e237a5a3"
      },
      "outputs": [
        {
          "output_type": "stream",
          "name": "stdout",
          "text": [
            "[0, 1, 2, 3, 4, 100]\n",
            "[0, 1, 2, 3, 4]\n"
          ]
        }
      ],
      "source": [
        "mylist = list(range(5))\n",
        "a = mylist.copy()\n",
        "a.append(100)\n",
        "print(a)\n",
        "print(mylist)"
      ]
    },
    {
      "cell_type": "markdown",
      "metadata": {
        "id": "YokolwJjHCis"
      },
      "source": [
        "extend"
      ]
    },
    {
      "cell_type": "code",
      "execution_count": null,
      "metadata": {
        "colab": {
          "base_uri": "https://localhost:8080/"
        },
        "id": "1DMPYo4HHCis",
        "outputId": "ae4d5443-376f-40de-e49e-5815f872642b"
      },
      "outputs": [
        {
          "output_type": "stream",
          "name": "stdout",
          "text": [
            "[0, 1, 2, 3, 4, 7, 8, 9]\n"
          ]
        }
      ],
      "source": [
        "a = mylist.copy()\n",
        "a.extend([7,8,9])\n",
        "print(a)"
      ]
    },
    {
      "cell_type": "code",
      "execution_count": null,
      "metadata": {
        "colab": {
          "base_uri": "https://localhost:8080/"
        },
        "id": "XWrbzWOTHCit",
        "outputId": "004ca1ba-309c-4196-ed38-74e04ab3aca2"
      },
      "outputs": [
        {
          "output_type": "stream",
          "name": "stdout",
          "text": [
            "[0, 1, 2, 3, 4, [7, 8, 9]]\n"
          ]
        }
      ],
      "source": [
        "a = mylist.copy()\n",
        "a.extend([[7,8,9]])\n",
        "print(a)"
      ]
    },
    {
      "cell_type": "markdown",
      "metadata": {
        "id": "eG_-m4zsHCit"
      },
      "source": [
        "append in numpy"
      ]
    },
    {
      "cell_type": "code",
      "execution_count": null,
      "metadata": {
        "colab": {
          "base_uri": "https://localhost:8080/"
        },
        "id": "NGGHyvoAHCit",
        "outputId": "f1aeb82c-06d2-4faf-b221-abe85821275d"
      },
      "outputs": [
        {
          "output_type": "execute_result",
          "data": {
            "text/plain": [
              "array([1, 2, 3, 4, 5, 6, 7, 8, 9])"
            ]
          },
          "metadata": {},
          "execution_count": 45
        }
      ],
      "source": [
        "np.append([1, 2, 3], [[4, 5, 6], [7, 8, 9]])"
      ]
    },
    {
      "cell_type": "markdown",
      "metadata": {
        "id": "h1_kbV-mHCiu"
      },
      "source": [
        "specify axis"
      ]
    },
    {
      "cell_type": "code",
      "execution_count": null,
      "metadata": {
        "colab": {
          "base_uri": "https://localhost:8080/"
        },
        "id": "3nP1HnlWHCiu",
        "outputId": "e24e693a-4404-460d-cc52-b5f2fd349fd6"
      },
      "outputs": [
        {
          "output_type": "execute_result",
          "data": {
            "text/plain": [
              "array([[1, 2, 3],\n",
              "       [4, 5, 6],\n",
              "       [7, 8, 9]])"
            ]
          },
          "metadata": {},
          "execution_count": 46
        }
      ],
      "source": [
        "np.append([[1, 2, 3], [4, 5, 6]], [[7, 8, 9]], axis=0)"
      ]
    },
    {
      "cell_type": "code",
      "execution_count": null,
      "metadata": {
        "colab": {
          "base_uri": "https://localhost:8080/",
          "height": 374
        },
        "id": "5V-P85jSHCiv",
        "outputId": "a9b5ca82-1772-4f7f-fab5-d9b4c5a28e47"
      },
      "outputs": [
        {
          "output_type": "error",
          "ename": "ValueError",
          "evalue": "ignored",
          "traceback": [
            "\u001b[0;31m---------------------------------------------------------------------------\u001b[0m",
            "\u001b[0;31mValueError\u001b[0m                                Traceback (most recent call last)",
            "\u001b[0;32m<ipython-input-51-4e8fc616c3d8>\u001b[0m in \u001b[0;36m<module>\u001b[0;34m\u001b[0m\n\u001b[0;32m----> 1\u001b[0;31m \u001b[0mnp\u001b[0m\u001b[0;34m.\u001b[0m\u001b[0mappend\u001b[0m\u001b[0;34m(\u001b[0m\u001b[0;34m[\u001b[0m\u001b[0;36m1\u001b[0m\u001b[0;34m,\u001b[0m \u001b[0;36m2\u001b[0m\u001b[0;34m,\u001b[0m \u001b[0;36m3\u001b[0m\u001b[0;34m]\u001b[0m\u001b[0;34m,\u001b[0m \u001b[0;34m[\u001b[0m\u001b[0;34m[\u001b[0m\u001b[0;36m4\u001b[0m\u001b[0;34m,\u001b[0m \u001b[0;36m5\u001b[0m\u001b[0;34m,\u001b[0m \u001b[0;36m6\u001b[0m\u001b[0;34m]\u001b[0m\u001b[0;34m,\u001b[0m \u001b[0;34m[\u001b[0m\u001b[0;36m7\u001b[0m\u001b[0;34m,\u001b[0m \u001b[0;36m8\u001b[0m\u001b[0;34m,\u001b[0m \u001b[0;36m9\u001b[0m\u001b[0;34m]\u001b[0m\u001b[0;34m]\u001b[0m\u001b[0;34m,\u001b[0m \u001b[0maxis\u001b[0m\u001b[0;34m=\u001b[0m\u001b[0;36m0\u001b[0m\u001b[0;34m)\u001b[0m\u001b[0;34m\u001b[0m\u001b[0;34m\u001b[0m\u001b[0m\n\u001b[0m",
            "\u001b[0;32m<__array_function__ internals>\u001b[0m in \u001b[0;36mappend\u001b[0;34m(*args, **kwargs)\u001b[0m\n",
            "\u001b[0;32m/usr/local/lib/python3.8/dist-packages/numpy/lib/function_base.py\u001b[0m in \u001b[0;36mappend\u001b[0;34m(arr, values, axis)\u001b[0m\n\u001b[1;32m   4815\u001b[0m         \u001b[0mvalues\u001b[0m \u001b[0;34m=\u001b[0m \u001b[0mravel\u001b[0m\u001b[0;34m(\u001b[0m\u001b[0mvalues\u001b[0m\u001b[0;34m)\u001b[0m\u001b[0;34m\u001b[0m\u001b[0;34m\u001b[0m\u001b[0m\n\u001b[1;32m   4816\u001b[0m         \u001b[0maxis\u001b[0m \u001b[0;34m=\u001b[0m \u001b[0marr\u001b[0m\u001b[0;34m.\u001b[0m\u001b[0mndim\u001b[0m\u001b[0;34m-\u001b[0m\u001b[0;36m1\u001b[0m\u001b[0;34m\u001b[0m\u001b[0;34m\u001b[0m\u001b[0m\n\u001b[0;32m-> 4817\u001b[0;31m     \u001b[0;32mreturn\u001b[0m \u001b[0mconcatenate\u001b[0m\u001b[0;34m(\u001b[0m\u001b[0;34m(\u001b[0m\u001b[0marr\u001b[0m\u001b[0;34m,\u001b[0m \u001b[0mvalues\u001b[0m\u001b[0;34m)\u001b[0m\u001b[0;34m,\u001b[0m \u001b[0maxis\u001b[0m\u001b[0;34m=\u001b[0m\u001b[0maxis\u001b[0m\u001b[0;34m)\u001b[0m\u001b[0;34m\u001b[0m\u001b[0;34m\u001b[0m\u001b[0m\n\u001b[0m\u001b[1;32m   4818\u001b[0m \u001b[0;34m\u001b[0m\u001b[0m\n\u001b[1;32m   4819\u001b[0m \u001b[0;34m\u001b[0m\u001b[0m\n",
            "\u001b[0;32m<__array_function__ internals>\u001b[0m in \u001b[0;36mconcatenate\u001b[0;34m(*args, **kwargs)\u001b[0m\n",
            "\u001b[0;31mValueError\u001b[0m: all the input arrays must have same number of dimensions, but the array at index 0 has 1 dimension(s) and the array at index 1 has 2 dimension(s)"
          ]
        }
      ],
      "source": [
        "np.append([1, 2, 3], [[4, 5, 6], [7, 8, 9]], axis=0)"
      ]
    },
    {
      "cell_type": "markdown",
      "metadata": {
        "id": "iQa0kbMZHCiv"
      },
      "source": [
        "### Addition and multiplicaiton"
      ]
    },
    {
      "cell_type": "code",
      "execution_count": null,
      "metadata": {
        "colab": {
          "base_uri": "https://localhost:8080/"
        },
        "id": "eHnkq-jFHCiv",
        "outputId": "46c3b73a-621f-4c47-f86e-989716a3286d"
      },
      "outputs": [
        {
          "output_type": "stream",
          "name": "stdout",
          "text": [
            "[1, 2, 3]\n",
            "[4, 5, 6]\n"
          ]
        }
      ],
      "source": [
        "a, b = [1,2,3], [4,5,6]\n",
        "print(a)\n",
        "print(b)"
      ]
    },
    {
      "cell_type": "code",
      "execution_count": null,
      "metadata": {
        "colab": {
          "base_uri": "https://localhost:8080/"
        },
        "id": "RharufM6HCiw",
        "outputId": "4a01eab2-04c3-46d1-8e05-63608f631cb0"
      },
      "outputs": [
        {
          "output_type": "execute_result",
          "data": {
            "text/plain": [
              "[1, 2, 3, 4, 5, 6]"
            ]
          },
          "metadata": {},
          "execution_count": 53
        }
      ],
      "source": [
        "a+b"
      ]
    },
    {
      "cell_type": "code",
      "execution_count": null,
      "metadata": {
        "colab": {
          "base_uri": "https://localhost:8080/",
          "height": 166
        },
        "id": "5ZM3j5FjHCiw",
        "outputId": "7f10beec-8986-4063-eab7-b403ddf3961a"
      },
      "outputs": [
        {
          "output_type": "error",
          "ename": "TypeError",
          "evalue": "ignored",
          "traceback": [
            "\u001b[0;31m---------------------------------------------------------------------------\u001b[0m",
            "\u001b[0;31mTypeError\u001b[0m                                 Traceback (most recent call last)",
            "\u001b[0;32m<ipython-input-54-8ce765dcfa30>\u001b[0m in \u001b[0;36m<module>\u001b[0;34m\u001b[0m\n\u001b[0;32m----> 1\u001b[0;31m \u001b[0ma\u001b[0m\u001b[0;34m*\u001b[0m\u001b[0mb\u001b[0m\u001b[0;34m\u001b[0m\u001b[0;34m\u001b[0m\u001b[0m\n\u001b[0m",
            "\u001b[0;31mTypeError\u001b[0m: can't multiply sequence by non-int of type 'list'"
          ]
        }
      ],
      "source": [
        "a*b"
      ]
    },
    {
      "cell_type": "code",
      "execution_count": null,
      "metadata": {
        "colab": {
          "base_uri": "https://localhost:8080/"
        },
        "id": "vDzuwd-0HCix",
        "outputId": "abb6f434-a4f1-401f-914e-a1ab4bb07473"
      },
      "outputs": [
        {
          "output_type": "execute_result",
          "data": {
            "text/plain": [
              "[1, 2, 3, 1, 2, 3]"
            ]
          },
          "metadata": {},
          "execution_count": 55
        }
      ],
      "source": [
        "a*2"
      ]
    },
    {
      "cell_type": "code",
      "execution_count": null,
      "metadata": {
        "colab": {
          "base_uri": "https://localhost:8080/"
        },
        "id": "wOWQM0OgHCiy",
        "outputId": "cd8a8d01-4763-489d-eb37-47bb713d43b5"
      },
      "outputs": [
        {
          "output_type": "execute_result",
          "data": {
            "text/plain": [
              "array([5, 7, 9])"
            ]
          },
          "metadata": {},
          "execution_count": 56
        }
      ],
      "source": [
        "a = np.array([1,2,3])\n",
        "b = np.array([4,5,6])\n",
        "a+b"
      ]
    },
    {
      "cell_type": "code",
      "execution_count": null,
      "metadata": {
        "colab": {
          "base_uri": "https://localhost:8080/"
        },
        "id": "FZvaYTTHHCiz",
        "outputId": "eb490f19-c682-4b83-e00e-40f3bb13f0eb"
      },
      "outputs": [
        {
          "output_type": "execute_result",
          "data": {
            "text/plain": [
              "array([ 4, 10, 18])"
            ]
          },
          "metadata": {},
          "execution_count": 57
        }
      ],
      "source": [
        "a*b"
      ]
    },
    {
      "cell_type": "code",
      "execution_count": null,
      "metadata": {
        "colab": {
          "base_uri": "https://localhost:8080/"
        },
        "id": "NwQuOqj4HCi0",
        "outputId": "8b8266d9-023a-42d4-a839-04fa3f7911dc"
      },
      "outputs": [
        {
          "output_type": "execute_result",
          "data": {
            "text/plain": [
              "array([2, 4, 6])"
            ]
          },
          "metadata": {},
          "execution_count": 58
        }
      ],
      "source": [
        "a*2"
      ]
    },
    {
      "cell_type": "code",
      "execution_count": null,
      "metadata": {
        "colab": {
          "base_uri": "https://localhost:8080/"
        },
        "id": "M0P_6cGSHCi0",
        "outputId": "1e799861-25ae-49b2-8d83-1515be3e00c1"
      },
      "outputs": [
        {
          "output_type": "execute_result",
          "data": {
            "text/plain": [
              "32"
            ]
          },
          "metadata": {},
          "execution_count": 59
        }
      ],
      "source": [
        "np.dot(a,b)"
      ]
    },
    {
      "cell_type": "markdown",
      "metadata": {
        "id": "6__DjHQjQu43"
      },
      "source": [
        "## Dictionaries"
      ]
    },
    {
      "cell_type": "markdown",
      "metadata": {
        "id": "hlDLxZEAQ3Nm"
      },
      "source": [
        "### Defining a dictionary"
      ]
    },
    {
      "cell_type": "code",
      "execution_count": null,
      "metadata": {
        "id": "DIM9xqpHQo99",
        "colab": {
          "base_uri": "https://localhost:8080/"
        },
        "outputId": "bfde333a-f444-4436-8834-706620ffe136"
      },
      "outputs": [
        {
          "output_type": "stream",
          "name": "stdout",
          "text": [
            "{2: 'Los Angeles', 9: 'Dallas', 21: 'Boston'}\n",
            "<class 'dict'>\n"
          ]
        }
      ],
      "source": [
        "city={2:\"Los Angeles\", 9:\"Dallas\" , 21:\"Boston\"}\n",
        "print(city)\n",
        "print(type(city))"
      ]
    },
    {
      "cell_type": "markdown",
      "metadata": {
        "id": "-ZuDSldPRAXT"
      },
      "source": [
        "### Accessing values from a dictionary"
      ]
    },
    {
      "cell_type": "code",
      "execution_count": null,
      "metadata": {
        "id": "7DhrgbdFQ8QH",
        "colab": {
          "base_uri": "https://localhost:8080/"
        },
        "outputId": "0cc45691-e957-458e-f361-e6956d855883"
      },
      "outputs": [
        {
          "output_type": "stream",
          "name": "stdout",
          "text": [
            "Dallas\n",
            "Los Angeles\n"
          ]
        }
      ],
      "source": [
        "print(city[9])\n",
        "print(city[2])"
      ]
    },
    {
      "cell_type": "markdown",
      "metadata": {
        "id": "7EnUVNuXRHQw"
      },
      "source": [
        "### Printing all keys"
      ]
    },
    {
      "cell_type": "code",
      "execution_count": null,
      "metadata": {
        "id": "rvI1f-emRPLu",
        "colab": {
          "base_uri": "https://localhost:8080/"
        },
        "outputId": "9e11416c-99ff-4559-e113-f2a861c4da3c"
      },
      "outputs": [
        {
          "output_type": "stream",
          "name": "stdout",
          "text": [
            "dict_keys([2, 9, 21])\n"
          ]
        }
      ],
      "source": [
        "print(city.keys())"
      ]
    },
    {
      "cell_type": "markdown",
      "metadata": {
        "id": "P8QBAU1DRSmJ"
      },
      "source": [
        "### Printing all values"
      ]
    },
    {
      "cell_type": "code",
      "execution_count": null,
      "metadata": {
        "id": "qYhYUfZyRQEl",
        "colab": {
          "base_uri": "https://localhost:8080/"
        },
        "outputId": "5d47db0f-c65c-4fb2-c3d3-a3ab86d57d30"
      },
      "outputs": [
        {
          "output_type": "stream",
          "name": "stdout",
          "text": [
            "dict_values(['Los Angeles', 'Dallas', 'Boston'])\n"
          ]
        }
      ],
      "source": [
        "print(city.values())"
      ]
    },
    {
      "cell_type": "markdown",
      "metadata": {
        "id": "1i-A-KjjRfvi"
      },
      "source": [
        "### Updating an element value in the dictionary"
      ]
    },
    {
      "cell_type": "code",
      "execution_count": null,
      "metadata": {
        "id": "35Uxx1gkRXB8",
        "colab": {
          "base_uri": "https://localhost:8080/"
        },
        "outputId": "fadf3a8e-3d88-40e5-f5df-33e007d09497"
      },
      "outputs": [
        {
          "output_type": "stream",
          "name": "stdout",
          "text": [
            "{2: 'New York', 9: 'Dallas', 21: 'Boston'}\n"
          ]
        }
      ],
      "source": [
        "city[2]=\"New York\"\n",
        "print(city)"
      ]
    },
    {
      "cell_type": "markdown",
      "metadata": {
        "id": "VL82oVcYRnRh"
      },
      "source": [
        "### Deleting a value from dictionary"
      ]
    },
    {
      "cell_type": "code",
      "execution_count": null,
      "metadata": {
        "id": "7siKnw6gRlcm",
        "colab": {
          "base_uri": "https://localhost:8080/"
        },
        "outputId": "64508bc4-efc0-4f94-9cef-85a929df6055"
      },
      "outputs": [
        {
          "output_type": "stream",
          "name": "stdout",
          "text": [
            "{9: 'Dallas', 21: 'Boston'}\n"
          ]
        }
      ],
      "source": [
        "del(city[2])\n",
        "print(city)"
      ]
    },
    {
      "cell_type": "markdown",
      "metadata": {
        "id": "13VO8Bn1SjaF"
      },
      "source": [
        "### Keys in dictionary"
      ]
    },
    {
      "cell_type": "code",
      "execution_count": null,
      "metadata": {
        "id": "gUUEmvG5Rsvz",
        "colab": {
          "base_uri": "https://localhost:8080/"
        },
        "outputId": "22feedd3-d537-4566-f319-3b04c70329d8"
      },
      "outputs": [
        {
          "output_type": "stream",
          "name": "stdout",
          "text": [
            "{1: 'USA', 6: 'France', 7: 'India'}\n"
          ]
        }
      ],
      "source": [
        "country={1:\"USA\", 6:\"Brazil\" , 7:\"India\", 6: \"France\" }\n",
        "print(country)"
      ]
    },
    {
      "cell_type": "markdown",
      "metadata": {
        "id": "0my3joKrSWOl"
      },
      "source": [
        "Keys can never repeat. In case of a repeat key, Python doesn’t throw an error but it automatically ignores the value associated with first key. "
      ]
    },
    {
      "cell_type": "code",
      "execution_count": null,
      "metadata": {
        "id": "fh1WoRvUSUjh",
        "colab": {
          "base_uri": "https://localhost:8080/"
        },
        "outputId": "38a43f68-b102-4b29-bba4-d47f54fe9fff"
      },
      "outputs": [
        {
          "output_type": "stream",
          "name": "stdout",
          "text": [
            "{'USA': 20494, 'China': 13407}\n",
            "20494\n"
          ]
        }
      ],
      "source": [
        "# Getting error on the last output of this block is normal\n",
        "GDP= {\"USA\": 20494, \"China\" : 13407}\n",
        "print(GDP)\n",
        "print(GDP[\"USA\"])\n",
        "# print(GDP[USA])"
      ]
    },
    {
      "cell_type": "markdown",
      "metadata": {
        "id": "UwRvBhXSSyar"
      },
      "source": [
        "We can have non-numeric keys as well but while accessing it you need to pass the key values like a string - with quotes. "
      ]
    },
    {
      "cell_type": "code",
      "execution_count": null,
      "metadata": {
        "id": "sSaHRv5pS4Ox",
        "colab": {
          "base_uri": "https://localhost:8080/"
        },
        "outputId": "10816613-84e0-42f8-aea0-7c3a3849b019"
      },
      "outputs": [
        {
          "output_type": "stream",
          "name": "stdout",
          "text": [
            "{'cust1': [19, 9500], 'cust2': [21, 10000]}\n",
            "[19, 9500]\n"
          ]
        }
      ],
      "source": [
        "cust={\"cust1\":[19, 9500], \"cust2\":[21, 10000]}\n",
        "print(cust)\n",
        "print(cust[\"cust1\"])"
      ]
    },
    {
      "cell_type": "markdown",
      "metadata": {
        "id": "XBdDNiaxTB-L"
      },
      "source": [
        "Values in the dictionary can be lists also."
      ]
    },
    {
      "cell_type": "markdown",
      "metadata": {
        "id": "eoYvVO8bUV7M"
      },
      "source": [
        "## Packages in python"
      ]
    },
    {
      "cell_type": "code",
      "execution_count": null,
      "metadata": {
        "id": "cDd4UjLWS_ED",
        "colab": {
          "base_uri": "https://localhost:8080/",
          "height": 166
        },
        "outputId": "11b0c7a4-329c-43bb-9484-eb731c74a373"
      },
      "outputs": [
        {
          "output_type": "error",
          "ename": "NameError",
          "evalue": "ignored",
          "traceback": [
            "\u001b[0;31m---------------------------------------------------------------------------\u001b[0m",
            "\u001b[0;31mNameError\u001b[0m                                 Traceback (most recent call last)",
            "\u001b[0;32m<ipython-input-70-a4265d6da271>\u001b[0m in \u001b[0;36m<module>\u001b[0;34m\u001b[0m\n\u001b[0;32m----> 1\u001b[0;31m \u001b[0mprint\u001b[0m\u001b[0;34m(\u001b[0m\u001b[0mlog\u001b[0m\u001b[0;34m(\u001b[0m\u001b[0;36m10\u001b[0m\u001b[0;34m)\u001b[0m\u001b[0;34m)\u001b[0m\u001b[0;34m\u001b[0m\u001b[0;34m\u001b[0m\u001b[0m\n\u001b[0m",
            "\u001b[0;31mNameError\u001b[0m: name 'log' is not defined"
          ]
        }
      ],
      "source": [
        "print(log(10))"
      ]
    },
    {
      "cell_type": "code",
      "execution_count": null,
      "metadata": {
        "id": "81tOVSulUfjq",
        "colab": {
          "base_uri": "https://localhost:8080/",
          "height": 166
        },
        "outputId": "e34cf220-a60c-4d19-e641-f3e6464df34d"
      },
      "outputs": [
        {
          "output_type": "error",
          "ename": "NameError",
          "evalue": "ignored",
          "traceback": [
            "\u001b[0;31m---------------------------------------------------------------------------\u001b[0m",
            "\u001b[0;31mNameError\u001b[0m                                 Traceback (most recent call last)",
            "\u001b[0;32m<ipython-input-71-112b573c917c>\u001b[0m in \u001b[0;36m<module>\u001b[0;34m\u001b[0m\n\u001b[0;32m----> 1\u001b[0;31m \u001b[0mprint\u001b[0m\u001b[0;34m(\u001b[0m\u001b[0msqrt\u001b[0m\u001b[0;34m(\u001b[0m\u001b[0;36m256\u001b[0m\u001b[0;34m)\u001b[0m\u001b[0;34m)\u001b[0m\u001b[0;34m\u001b[0m\u001b[0;34m\u001b[0m\u001b[0m\n\u001b[0m",
            "\u001b[0;31mNameError\u001b[0m: name 'sqrt' is not defined"
          ]
        }
      ],
      "source": [
        "print(sqrt(256))"
      ]
    },
    {
      "cell_type": "markdown",
      "metadata": {
        "id": "TfBK2V57UuzQ"
      },
      "source": [
        "Python is throwing errors. It is not due to the wrong syntax or erroneous function names. Python is a multi-purpose language; it doesn’t have log as one of its core functions. Python doesn’t have a square root function either.\n",
        "\n",
        "Python contains a package called math. Just import math package, and you can now safely use log and sqrt."
      ]
    },
    {
      "cell_type": "code",
      "execution_count": null,
      "metadata": {
        "id": "AXAH46BRUtF3",
        "colab": {
          "base_uri": "https://localhost:8080/"
        },
        "outputId": "d7b2d04f-1bbe-4062-bf51-f3d49d707090"
      },
      "outputs": [
        {
          "output_type": "stream",
          "name": "stdout",
          "text": [
            "2.302585092994046\n",
            "16.0\n"
          ]
        }
      ],
      "source": [
        "import math\n",
        "print(math.log(10))\n",
        "print(math.sqrt(256))"
      ]
    },
    {
      "cell_type": "markdown",
      "metadata": {
        "id": "_IgSHfNxHj6p"
      },
      "source": [
        "## Subsets and Data filters"
      ]
    },
    {
      "cell_type": "code",
      "execution_count": null,
      "metadata": {
        "id": "VfVZkZjkqVcs",
        "colab": {
          "base_uri": "https://localhost:8080/"
        },
        "outputId": "c728d0e2-fa8f-4ee4-e4a9-3ec5048a7bc6"
      },
      "outputs": [
        {
          "output_type": "stream",
          "name": "stdout",
          "text": [
            "(45211, 18)\n",
            "Index(['Cust_num', 'age', 'job', 'marital', 'education', 'default', 'balance',\n",
            "       'housing', 'loan', 'contact', 'day', 'month', 'duration', 'campaign',\n",
            "       'pdays', 'previous', 'poutcome', 'y'],\n",
            "      dtype='object')\n"
          ]
        }
      ],
      "source": [
        "import pandas as pd\n",
        "\n",
        "bank= pd.read_csv('bank_market.csv')\n",
        "print(bank.shape)\n",
        "print(bank.columns)"
      ]
    },
    {
      "cell_type": "markdown",
      "metadata": {
        "id": "B7-phUbEJO1Y"
      },
      "source": [
        "we can create new datasets by selecting or excluding few columns or rows. "
      ]
    },
    {
      "cell_type": "markdown",
      "metadata": {
        "id": "7T6k28foJUu1"
      },
      "source": [
        "**Method 1**\n",
        "\n",
        "Here we need to mention the row count to keep first few rows."
      ]
    },
    {
      "cell_type": "code",
      "execution_count": null,
      "metadata": {
        "id": "0vh8FdfKH3oE",
        "colab": {
          "base_uri": "https://localhost:8080/"
        },
        "outputId": "e03b2577-cd1a-451a-8e52-5e9979b1d91b"
      },
      "outputs": [
        {
          "output_type": "stream",
          "name": "stdout",
          "text": [
            "   Cust_num  age           job  marital  education default  balance housing  \\\n",
            "0         1   58    management  married   tertiary      no     2143     yes   \n",
            "1         2   44    technician   single  secondary      no       29     yes   \n",
            "2         3   33  entrepreneur  married  secondary      no        2     yes   \n",
            "3         4   47   blue-collar  married    unknown      no     1506     yes   \n",
            "4         5   33       unknown   single    unknown      no        1      no   \n",
            "\n",
            "  loan  contact  day month  duration  campaign  pdays  previous poutcome   y  \n",
            "0   no  unknown    5   may       261         1     -1         0  unknown  no  \n",
            "1   no  unknown    5   may       151         1     -1         0  unknown  no  \n",
            "2  yes  unknown    5   may        76         1     -1         0  unknown  no  \n",
            "3   no  unknown    5   may        92         1     -1         0  unknown  no  \n",
            "4   no  unknown    5   may       198         1     -1         0  unknown  no  \n"
          ]
        }
      ],
      "source": [
        "bank1 = bank.head(5)\n",
        "print(bank1)"
      ]
    },
    {
      "cell_type": "markdown",
      "metadata": {
        "id": "5UemIAJcJib0"
      },
      "source": [
        "**Method 2**\n",
        "\n",
        "In Python wow index starts with zero. You can mention the index number in iloc(index location) to keep some specific rows. If you are keeping only a specific row, the result will be formatted as a series, and not as a data frame. "
      ]
    },
    {
      "cell_type": "code",
      "execution_count": null,
      "metadata": {
        "id": "TfiEZHEMJdHK",
        "colab": {
          "base_uri": "https://localhost:8080/"
        },
        "outputId": "58499c08-2a1f-4702-ac1e-002591629a90"
      },
      "outputs": [
        {
          "output_type": "stream",
          "name": "stdout",
          "text": [
            "Cust_num                3\n",
            "age                    33\n",
            "job          entrepreneur\n",
            "marital           married\n",
            "education       secondary\n",
            "default                no\n",
            "balance                 2\n",
            "housing               yes\n",
            "loan                  yes\n",
            "contact           unknown\n",
            "day                     5\n",
            "month                 may\n",
            "duration               76\n",
            "campaign                1\n",
            "pdays                  -1\n",
            "previous                0\n",
            "poutcome          unknown\n",
            "y                      no\n",
            "Name: 2, dtype: object\n",
            "<class 'pandas.core.series.Series'>\n"
          ]
        }
      ],
      "source": [
        "bank2=bank.iloc[2]\n",
        "print(bank2)\n",
        "print(type(bank2))"
      ]
    },
    {
      "cell_type": "markdown",
      "metadata": {
        "id": "dwuM8UbHKI6v"
      },
      "source": [
        "**Method 3**\n",
        "\n",
        "In case you wish to mention a greater number of indices, mention them as a list. Either you can define the list beforehand or pass it on directly.\n",
        "Here the outside bracket [ ] is for accessing while inside bucket is to define the list"
      ]
    },
    {
      "cell_type": "code",
      "execution_count": null,
      "metadata": {
        "id": "i11ym4zLJyVJ",
        "colab": {
          "base_uri": "https://localhost:8080/"
        },
        "outputId": "74f50492-b559-46d0-f3ee-db5c525b0027"
      },
      "outputs": [
        {
          "output_type": "stream",
          "name": "stdout",
          "text": [
            "    Cust_num  age           job  marital  education default  balance housing  \\\n",
            "2          3   33  entrepreneur  married  secondary      no        2     yes   \n",
            "9         10   43    technician   single  secondary      no      593     yes   \n",
            "15        16   51       retired  married    primary      no      229     yes   \n",
            "25        26   44        admin.  married  secondary      no     -372     yes   \n",
            "\n",
            "   loan  contact  day month  duration  campaign  pdays  previous poutcome   y  \n",
            "2   yes  unknown    5   may        76         1     -1         0  unknown  no  \n",
            "9    no  unknown    5   may        55         1     -1         0  unknown  no  \n",
            "15   no  unknown    5   may       353         1     -1         0  unknown  no  \n",
            "25   no  unknown    5   may       172         1     -1         0  unknown  no  \n"
          ]
        }
      ],
      "source": [
        "index_vals=[2,9,15,25]\n",
        "bank3=bank.iloc[index_vals]\n",
        "print(bank3)"
      ]
    },
    {
      "cell_type": "code",
      "execution_count": null,
      "metadata": {
        "id": "bM0zutOJKvvf",
        "colab": {
          "base_uri": "https://localhost:8080/"
        },
        "outputId": "54d9f351-2b00-4922-8df1-d9b587ff86dd"
      },
      "outputs": [
        {
          "output_type": "stream",
          "name": "stdout",
          "text": [
            "    Cust_num  age           job  marital  education default  balance housing  \\\n",
            "2          3   33  entrepreneur  married  secondary      no        2     yes   \n",
            "9         10   43    technician   single  secondary      no      593     yes   \n",
            "15        16   51       retired  married    primary      no      229     yes   \n",
            "25        26   44        admin.  married  secondary      no     -372     yes   \n",
            "\n",
            "   loan  contact  day month  duration  campaign  pdays  previous poutcome   y  \n",
            "2   yes  unknown    5   may        76         1     -1         0  unknown  no  \n",
            "9    no  unknown    5   may        55         1     -1         0  unknown  no  \n",
            "15   no  unknown    5   may       353         1     -1         0  unknown  no  \n",
            "25   no  unknown    5   may       172         1     -1         0  unknown  no  \n"
          ]
        }
      ],
      "source": [
        "bank3=bank.iloc[[2,9,15,25]]\n",
        "print(bank3)"
      ]
    },
    {
      "cell_type": "markdown",
      "metadata": {
        "id": "n_WAjaKwLQea"
      },
      "source": [
        "**Method 4**\n",
        "\n",
        "New dataset by keeping selected columns"
      ]
    },
    {
      "cell_type": "code",
      "execution_count": null,
      "metadata": {
        "id": "EQlt0_0ELBgj",
        "colab": {
          "base_uri": "https://localhost:8080/"
        },
        "outputId": "69e30fe5-c662-46b0-b691-963908e0a21c"
      },
      "outputs": [
        {
          "output_type": "stream",
          "name": "stdout",
          "text": [
            "            job  age\n",
            "0    management   58\n",
            "1    technician   44\n",
            "2  entrepreneur   33\n",
            "3   blue-collar   47\n",
            "4       unknown   33\n"
          ]
        }
      ],
      "source": [
        "bank4 = bank[[\"job\", \"age\"]]\n",
        "print(bank4.head(5))"
      ]
    },
    {
      "cell_type": "markdown",
      "metadata": {
        "id": "6sPqXLKMLtt9"
      },
      "source": [
        "**Method 5**\n",
        "\n",
        "If you need a new dataset by keeping selected columns and rows, just mention the relevant column names and row indexes in iloc"
      ]
    },
    {
      "cell_type": "code",
      "execution_count": null,
      "metadata": {
        "id": "rRJPrMxYLeQT",
        "colab": {
          "base_uri": "https://localhost:8080/"
        },
        "outputId": "af4000be-afd7-4ba0-a70c-92622a2d813c"
      },
      "outputs": [
        {
          "output_type": "stream",
          "name": "stdout",
          "text": [
            "            job  age\n",
            "0    management   58\n",
            "1    technician   44\n",
            "2  entrepreneur   33\n",
            "3   blue-collar   47\n",
            "4       unknown   33\n"
          ]
        }
      ],
      "source": [
        "bank5 = bank[[\"job\", \"age\"]].iloc[0:5]\n",
        "print(bank5)"
      ]
    },
    {
      "cell_type": "markdown",
      "metadata": {
        "id": "AzoaaQ3qL8ff"
      },
      "source": [
        "The code given above keeps only two columns job and age along with the first five rows of bank dataset. Remember mentioning [0:5] will include zero and exclude five. Total of five rows will be selected, - zero till four. "
      ]
    },
    {
      "cell_type": "markdown",
      "metadata": {
        "id": "e1Oj5qsiMa6M"
      },
      "source": [
        "**Method 6**\n",
        "\n",
        "New data by excluding columns. We need to use the drop function with a mention of the row indices. \n",
        "The code below excludes four rows and creates a new dataset bank6. Here we are excluding row 1, row3, row5 and row7. You can verify that by looking at customer numbers. "
      ]
    },
    {
      "cell_type": "code",
      "execution_count": null,
      "metadata": {
        "id": "WqB7CrSvL5Si",
        "colab": {
          "base_uri": "https://localhost:8080/"
        },
        "outputId": "376947ba-e396-40ee-e5f3-9c7c64805f09"
      },
      "outputs": [
        {
          "output_type": "stream",
          "name": "stdout",
          "text": [
            "   Cust_num  age           job   marital  education default  balance housing  \\\n",
            "1         2   44    technician    single  secondary      no       29     yes   \n",
            "3         4   47   blue-collar   married    unknown      no     1506     yes   \n",
            "5         6   35    management   married   tertiary      no      231     yes   \n",
            "7         8   42  entrepreneur  divorced   tertiary     yes        2     yes   \n",
            "8         9   58       retired   married    primary      no      121     yes   \n",
            "\n",
            "  loan  contact  day month  duration  campaign  pdays  previous poutcome   y  \n",
            "1   no  unknown    5   may       151         1     -1         0  unknown  no  \n",
            "3   no  unknown    5   may        92         1     -1         0  unknown  no  \n",
            "5   no  unknown    5   may       139         1     -1         0  unknown  no  \n",
            "7   no  unknown    5   may       380         1     -1         0  unknown  no  \n",
            "8   no  unknown    5   may        50         1     -1         0  unknown  no  \n"
          ]
        }
      ],
      "source": [
        "bank6=bank.drop([0,2,4,6])\n",
        "print(bank6.head(5))"
      ]
    },
    {
      "cell_type": "markdown",
      "metadata": {
        "id": "4qMOxOyANN6S"
      },
      "source": [
        "**Method 7**\n",
        "\n",
        "New data by excluding columns\n",
        "\n",
        "Again, we need to use the drop function and mention the column names, but there is an additional parameter we need to provide as axis=1. The same drop function is used both for dropping rows and columns. While dropping rows we used axis=0 and while doing the same with columns, we used axis=1. If you don’t mention any axis value, it will be taken default zero. While dropping rows it is perfectly fine if you don’t mention axis. But while dropping columns it is mandatory to mention axis=1, else you will get axis related error. \n"
      ]
    },
    {
      "cell_type": "code",
      "execution_count": null,
      "metadata": {
        "id": "oJrBG9eWMuJ6",
        "colab": {
          "base_uri": "https://localhost:8080/"
        },
        "outputId": "169db252-c8e9-411e-87eb-17a29ec6c6a0"
      },
      "outputs": [
        {
          "output_type": "stream",
          "name": "stdout",
          "text": [
            "   age           job  marital  education default  balance housing loan  \\\n",
            "0   58    management  married   tertiary      no     2143     yes   no   \n",
            "1   44    technician   single  secondary      no       29     yes   no   \n",
            "2   33  entrepreneur  married  secondary      no        2     yes  yes   \n",
            "3   47   blue-collar  married    unknown      no     1506     yes   no   \n",
            "4   33       unknown   single    unknown      no        1      no   no   \n",
            "\n",
            "   contact  day month  duration  campaign  pdays  previous poutcome   y  \n",
            "0  unknown    5   may       261         1     -1         0  unknown  no  \n",
            "1  unknown    5   may       151         1     -1         0  unknown  no  \n",
            "2  unknown    5   may        76         1     -1         0  unknown  no  \n",
            "3  unknown    5   may        92         1     -1         0  unknown  no  \n",
            "4  unknown    5   may       198         1     -1         0  unknown  no  \n"
          ]
        }
      ],
      "source": [
        "bank7=bank.drop([\"Cust_num\"], axis=1)\n",
        "print(bank7.head(5))"
      ]
    },
    {
      "cell_type": "markdown",
      "metadata": {
        "id": "MA0DYULMTd1x"
      },
      "source": [
        "If you don't mention the axis you will get following error\n",
        "\n"
      ]
    },
    {
      "cell_type": "code",
      "execution_count": null,
      "metadata": {
        "id": "Qa5dDziCS0U0",
        "colab": {
          "base_uri": "https://localhost:8080/",
          "height": 312
        },
        "outputId": "b94dbcab-a88c-416a-d33d-be8a9a6dd2cf"
      },
      "outputs": [
        {
          "output_type": "error",
          "ename": "KeyError",
          "evalue": "ignored",
          "traceback": [
            "\u001b[0;31m---------------------------------------------------------------------------\u001b[0m",
            "\u001b[0;31mKeyError\u001b[0m                                  Traceback (most recent call last)",
            "\u001b[0;32m<ipython-input-85-a0b9378992d5>\u001b[0m in \u001b[0;36m<module>\u001b[0;34m\u001b[0m\n\u001b[0;32m----> 1\u001b[0;31m \u001b[0mbank7_1\u001b[0m\u001b[0;34m=\u001b[0m\u001b[0mbank\u001b[0m\u001b[0;34m.\u001b[0m\u001b[0mdrop\u001b[0m\u001b[0;34m(\u001b[0m\u001b[0;34m[\u001b[0m\u001b[0;34m\"Cust_num\"\u001b[0m\u001b[0;34m]\u001b[0m\u001b[0;34m)\u001b[0m\u001b[0;34m\u001b[0m\u001b[0;34m\u001b[0m\u001b[0m\n\u001b[0m",
            "\u001b[0;32m/usr/local/lib/python3.8/dist-packages/pandas/util/_decorators.py\u001b[0m in \u001b[0;36mwrapper\u001b[0;34m(*args, **kwargs)\u001b[0m\n\u001b[1;32m    309\u001b[0m                     \u001b[0mstacklevel\u001b[0m\u001b[0;34m=\u001b[0m\u001b[0mstacklevel\u001b[0m\u001b[0;34m,\u001b[0m\u001b[0;34m\u001b[0m\u001b[0;34m\u001b[0m\u001b[0m\n\u001b[1;32m    310\u001b[0m                 )\n\u001b[0;32m--> 311\u001b[0;31m             \u001b[0;32mreturn\u001b[0m \u001b[0mfunc\u001b[0m\u001b[0;34m(\u001b[0m\u001b[0;34m*\u001b[0m\u001b[0margs\u001b[0m\u001b[0;34m,\u001b[0m \u001b[0;34m**\u001b[0m\u001b[0mkwargs\u001b[0m\u001b[0;34m)\u001b[0m\u001b[0;34m\u001b[0m\u001b[0;34m\u001b[0m\u001b[0m\n\u001b[0m\u001b[1;32m    312\u001b[0m \u001b[0;34m\u001b[0m\u001b[0m\n\u001b[1;32m    313\u001b[0m         \u001b[0;32mreturn\u001b[0m \u001b[0mwrapper\u001b[0m\u001b[0;34m\u001b[0m\u001b[0;34m\u001b[0m\u001b[0m\n",
            "\u001b[0;32m/usr/local/lib/python3.8/dist-packages/pandas/core/frame.py\u001b[0m in \u001b[0;36mdrop\u001b[0;34m(self, labels, axis, index, columns, level, inplace, errors)\u001b[0m\n\u001b[1;32m   4904\u001b[0m                 \u001b[0mweight\u001b[0m  \u001b[0;36m1.0\u001b[0m     \u001b[0;36m0.8\u001b[0m\u001b[0;34m\u001b[0m\u001b[0;34m\u001b[0m\u001b[0m\n\u001b[1;32m   4905\u001b[0m         \"\"\"\n\u001b[0;32m-> 4906\u001b[0;31m         return super().drop(\n\u001b[0m\u001b[1;32m   4907\u001b[0m             \u001b[0mlabels\u001b[0m\u001b[0;34m=\u001b[0m\u001b[0mlabels\u001b[0m\u001b[0;34m,\u001b[0m\u001b[0;34m\u001b[0m\u001b[0;34m\u001b[0m\u001b[0m\n\u001b[1;32m   4908\u001b[0m             \u001b[0maxis\u001b[0m\u001b[0;34m=\u001b[0m\u001b[0maxis\u001b[0m\u001b[0;34m,\u001b[0m\u001b[0;34m\u001b[0m\u001b[0;34m\u001b[0m\u001b[0m\n",
            "\u001b[0;32m/usr/local/lib/python3.8/dist-packages/pandas/core/generic.py\u001b[0m in \u001b[0;36mdrop\u001b[0;34m(self, labels, axis, index, columns, level, inplace, errors)\u001b[0m\n\u001b[1;32m   4148\u001b[0m         \u001b[0;32mfor\u001b[0m \u001b[0maxis\u001b[0m\u001b[0;34m,\u001b[0m \u001b[0mlabels\u001b[0m \u001b[0;32min\u001b[0m \u001b[0maxes\u001b[0m\u001b[0;34m.\u001b[0m\u001b[0mitems\u001b[0m\u001b[0;34m(\u001b[0m\u001b[0;34m)\u001b[0m\u001b[0;34m:\u001b[0m\u001b[0;34m\u001b[0m\u001b[0;34m\u001b[0m\u001b[0m\n\u001b[1;32m   4149\u001b[0m             \u001b[0;32mif\u001b[0m \u001b[0mlabels\u001b[0m \u001b[0;32mis\u001b[0m \u001b[0;32mnot\u001b[0m \u001b[0;32mNone\u001b[0m\u001b[0;34m:\u001b[0m\u001b[0;34m\u001b[0m\u001b[0;34m\u001b[0m\u001b[0m\n\u001b[0;32m-> 4150\u001b[0;31m                 \u001b[0mobj\u001b[0m \u001b[0;34m=\u001b[0m \u001b[0mobj\u001b[0m\u001b[0;34m.\u001b[0m\u001b[0m_drop_axis\u001b[0m\u001b[0;34m(\u001b[0m\u001b[0mlabels\u001b[0m\u001b[0;34m,\u001b[0m \u001b[0maxis\u001b[0m\u001b[0;34m,\u001b[0m \u001b[0mlevel\u001b[0m\u001b[0;34m=\u001b[0m\u001b[0mlevel\u001b[0m\u001b[0;34m,\u001b[0m \u001b[0merrors\u001b[0m\u001b[0;34m=\u001b[0m\u001b[0merrors\u001b[0m\u001b[0;34m)\u001b[0m\u001b[0;34m\u001b[0m\u001b[0;34m\u001b[0m\u001b[0m\n\u001b[0m\u001b[1;32m   4151\u001b[0m \u001b[0;34m\u001b[0m\u001b[0m\n\u001b[1;32m   4152\u001b[0m         \u001b[0;32mif\u001b[0m \u001b[0minplace\u001b[0m\u001b[0;34m:\u001b[0m\u001b[0;34m\u001b[0m\u001b[0;34m\u001b[0m\u001b[0m\n",
            "\u001b[0;32m/usr/local/lib/python3.8/dist-packages/pandas/core/generic.py\u001b[0m in \u001b[0;36m_drop_axis\u001b[0;34m(self, labels, axis, level, errors)\u001b[0m\n\u001b[1;32m   4183\u001b[0m                 \u001b[0mnew_axis\u001b[0m \u001b[0;34m=\u001b[0m \u001b[0maxis\u001b[0m\u001b[0;34m.\u001b[0m\u001b[0mdrop\u001b[0m\u001b[0;34m(\u001b[0m\u001b[0mlabels\u001b[0m\u001b[0;34m,\u001b[0m \u001b[0mlevel\u001b[0m\u001b[0;34m=\u001b[0m\u001b[0mlevel\u001b[0m\u001b[0;34m,\u001b[0m \u001b[0merrors\u001b[0m\u001b[0;34m=\u001b[0m\u001b[0merrors\u001b[0m\u001b[0;34m)\u001b[0m\u001b[0;34m\u001b[0m\u001b[0;34m\u001b[0m\u001b[0m\n\u001b[1;32m   4184\u001b[0m             \u001b[0;32melse\u001b[0m\u001b[0;34m:\u001b[0m\u001b[0;34m\u001b[0m\u001b[0;34m\u001b[0m\u001b[0m\n\u001b[0;32m-> 4185\u001b[0;31m                 \u001b[0mnew_axis\u001b[0m \u001b[0;34m=\u001b[0m \u001b[0maxis\u001b[0m\u001b[0;34m.\u001b[0m\u001b[0mdrop\u001b[0m\u001b[0;34m(\u001b[0m\u001b[0mlabels\u001b[0m\u001b[0;34m,\u001b[0m \u001b[0merrors\u001b[0m\u001b[0;34m=\u001b[0m\u001b[0merrors\u001b[0m\u001b[0;34m)\u001b[0m\u001b[0;34m\u001b[0m\u001b[0;34m\u001b[0m\u001b[0m\n\u001b[0m\u001b[1;32m   4186\u001b[0m             \u001b[0mresult\u001b[0m \u001b[0;34m=\u001b[0m \u001b[0mself\u001b[0m\u001b[0;34m.\u001b[0m\u001b[0mreindex\u001b[0m\u001b[0;34m(\u001b[0m\u001b[0;34m**\u001b[0m\u001b[0;34m{\u001b[0m\u001b[0maxis_name\u001b[0m\u001b[0;34m:\u001b[0m \u001b[0mnew_axis\u001b[0m\u001b[0;34m}\u001b[0m\u001b[0;34m)\u001b[0m\u001b[0;34m\u001b[0m\u001b[0;34m\u001b[0m\u001b[0m\n\u001b[1;32m   4187\u001b[0m \u001b[0;34m\u001b[0m\u001b[0m\n",
            "\u001b[0;32m/usr/local/lib/python3.8/dist-packages/pandas/core/indexes/base.py\u001b[0m in \u001b[0;36mdrop\u001b[0;34m(self, labels, errors)\u001b[0m\n\u001b[1;32m   6015\u001b[0m         \u001b[0;32mif\u001b[0m \u001b[0mmask\u001b[0m\u001b[0;34m.\u001b[0m\u001b[0many\u001b[0m\u001b[0;34m(\u001b[0m\u001b[0;34m)\u001b[0m\u001b[0;34m:\u001b[0m\u001b[0;34m\u001b[0m\u001b[0;34m\u001b[0m\u001b[0m\n\u001b[1;32m   6016\u001b[0m             \u001b[0;32mif\u001b[0m \u001b[0merrors\u001b[0m \u001b[0;34m!=\u001b[0m \u001b[0;34m\"ignore\"\u001b[0m\u001b[0;34m:\u001b[0m\u001b[0;34m\u001b[0m\u001b[0;34m\u001b[0m\u001b[0m\n\u001b[0;32m-> 6017\u001b[0;31m                 \u001b[0;32mraise\u001b[0m \u001b[0mKeyError\u001b[0m\u001b[0;34m(\u001b[0m\u001b[0;34mf\"{labels[mask]} not found in axis\"\u001b[0m\u001b[0;34m)\u001b[0m\u001b[0;34m\u001b[0m\u001b[0;34m\u001b[0m\u001b[0m\n\u001b[0m\u001b[1;32m   6018\u001b[0m             \u001b[0mindexer\u001b[0m \u001b[0;34m=\u001b[0m \u001b[0mindexer\u001b[0m\u001b[0;34m[\u001b[0m\u001b[0;34m~\u001b[0m\u001b[0mmask\u001b[0m\u001b[0;34m]\u001b[0m\u001b[0;34m\u001b[0m\u001b[0;34m\u001b[0m\u001b[0m\n\u001b[1;32m   6019\u001b[0m         \u001b[0;32mreturn\u001b[0m \u001b[0mself\u001b[0m\u001b[0;34m.\u001b[0m\u001b[0mdelete\u001b[0m\u001b[0;34m(\u001b[0m\u001b[0mindexer\u001b[0m\u001b[0;34m)\u001b[0m\u001b[0;34m\u001b[0m\u001b[0;34m\u001b[0m\u001b[0m\n",
            "\u001b[0;31mKeyError\u001b[0m: \"['Cust_num'] not found in axis\""
          ]
        }
      ],
      "source": [
        "bank7_1=bank.drop([\"Cust_num\"])"
      ]
    },
    {
      "cell_type": "markdown",
      "metadata": {
        "id": "qYs896J5Uxuq"
      },
      "source": [
        "**Method 8**-Filter conditions\n",
        "\n",
        "Most of the time we use these types of filters for sub setting the data rather than using the indexes.In the below example we are trying to get a subset from bank data where age>40. While mentioning the column name in the filter condition you need to mention dataset name again. "
      ]
    },
    {
      "cell_type": "code",
      "execution_count": null,
      "metadata": {
        "id": "fCqXlqceTkLj",
        "colab": {
          "base_uri": "https://localhost:8080/"
        },
        "outputId": "b8823db8-7ecf-46f1-8468-33cbf731b73b"
      },
      "outputs": [
        {
          "output_type": "stream",
          "name": "stdout",
          "text": [
            "(20494, 18)\n"
          ]
        }
      ],
      "source": [
        "bank8=bank[bank['age']>40]\n",
        "print(bank8.shape)"
      ]
    },
    {
      "cell_type": "markdown",
      "metadata": {
        "id": "t1XB_MyDWgFL"
      },
      "source": [
        "### AND condition & filters"
      ]
    },
    {
      "cell_type": "code",
      "execution_count": null,
      "metadata": {
        "id": "nWmNprPCWQUd",
        "colab": {
          "base_uri": "https://localhost:8080/"
        },
        "outputId": "6cf956f5-6f2a-4877-de39-31265b947080"
      },
      "outputs": [
        {
          "output_type": "stream",
          "name": "stdout",
          "text": [
            "(17156, 18)\n"
          ]
        }
      ],
      "source": [
        "bank9=bank[(bank['age']>40) & (bank['loan']==\"no\")]\n",
        "print(bank9.shape)"
      ]
    },
    {
      "cell_type": "markdown",
      "metadata": {
        "id": "0aFV7AFvWrh-"
      },
      "source": [
        "### OR condition & filter"
      ]
    },
    {
      "cell_type": "code",
      "execution_count": null,
      "metadata": {
        "id": "qytNuMqOWp34",
        "colab": {
          "base_uri": "https://localhost:8080/"
        },
        "outputId": "cd852051-3de6-4aa3-8a30-66316f0b78e3"
      },
      "outputs": [
        {
          "output_type": "stream",
          "name": "stdout",
          "text": [
            "(41305, 18)\n"
          ]
        }
      ],
      "source": [
        "bank10=bank[(bank['age']>40) | (bank['loan']==\"no\")]\n",
        "print(bank10.shape)"
      ]
    },
    {
      "cell_type": "markdown",
      "metadata": {
        "id": "iH37HWbtYsuj"
      },
      "source": [
        "## Some other useful commands"
      ]
    },
    {
      "cell_type": "markdown",
      "metadata": {
        "id": "Ukf8YDX3Ztj-"
      },
      "source": [
        "### Creating new columns"
      ]
    },
    {
      "cell_type": "code",
      "execution_count": null,
      "metadata": {
        "id": "-p8FqA6gWxit",
        "colab": {
          "base_uri": "https://localhost:8080/"
        },
        "outputId": "63fcf8f0-dc4a-4ebe-df80-1ea9cd662eda"
      },
      "outputs": [
        {
          "output_type": "stream",
          "name": "stdout",
          "text": [
            "(45211, 18)\n",
            "Index(['Cust_num', 'age', 'job', 'marital', 'education', 'default', 'balance',\n",
            "       'housing', 'loan', 'contact', 'day', 'month', 'duration', 'campaign',\n",
            "       'pdays', 'previous', 'poutcome', 'y'],\n",
            "      dtype='object')\n",
            "(45211, 19)\n",
            "Index(['Cust_num', 'age', 'job', 'marital', 'education', 'default', 'balance',\n",
            "       'housing', 'loan', 'contact', 'day', 'month', 'duration', 'campaign',\n",
            "       'pdays', 'previous', 'poutcome', 'y', 'bal_new'],\n",
            "      dtype='object')\n"
          ]
        }
      ],
      "source": [
        "print(bank.shape)\n",
        "print(bank.columns)\n",
        "bank[\"bal_new\"]=bank[\"balance\"]*0.9\n",
        "print(bank.shape)\n",
        "print(bank.columns)"
      ]
    },
    {
      "cell_type": "markdown",
      "metadata": {
        "id": "6K41IP1cdW0d"
      },
      "source": [
        "### Joining Datasets\n",
        "\n",
        "The function used for joining the datasets is pd.merge(). We can perform standard joining operations like outer join, inner join, left and right outer joins. Here is the code with an explanation for performing joins.  \n",
        "Product1 and Product2 are the two data sets. “On” is the primary key that is present in both the datasets. The parameter value “how” will decide the type of join. \n"
      ]
    },
    {
      "cell_type": "code",
      "execution_count": null,
      "metadata": {
        "id": "MPd23tz0eFBq",
        "colab": {
          "base_uri": "https://localhost:8080/"
        },
        "outputId": "4ab8dc62-10a3-43af-f38d-3eaff566d156"
      },
      "outputs": [
        {
          "output_type": "stream",
          "name": "stdout",
          "text": [
            "(665, 5)\n",
            "Index(['Cust_id', 'Country_code', 'Sales_Type', 'Net_sales', 'Invoice_Amount'], dtype='object')\n"
          ]
        }
      ],
      "source": [
        "product1= pd.read_csv(r\"Product1_orders.csv\")\n",
        "print(product1.shape)\n",
        "print(product1.columns)"
      ]
    },
    {
      "cell_type": "code",
      "source": [
        "product1.head()"
      ],
      "metadata": {
        "colab": {
          "base_uri": "https://localhost:8080/",
          "height": 215
        },
        "id": "F7Hh1ocrTo6o",
        "outputId": "07dfe58c-b05f-422d-8e2c-bdd394049592"
      },
      "execution_count": null,
      "outputs": [
        {
          "output_type": "execute_result",
          "data": {
            "text/plain": [
              "    Cust_id Country_code Sales_Type  Net_sales  Invoice_Amount\n",
              "0  SIE39906          SIE     Direct          1             400\n",
              "1  AFG39258          AFG    Website          2             400\n",
              "2  CAN39302          CAN    Website          2             400\n",
              "3  POR39323          POR    Website          2             400\n",
              "4  NOR39103          NOR      Other          3             600"
            ],
            "text/html": [
              "\n",
              "  <div id=\"df-6d7d3370-e9d1-4eeb-8389-352a0fce1d22\">\n",
              "    <div class=\"colab-df-container\">\n",
              "      <div>\n",
              "<style scoped>\n",
              "    .dataframe tbody tr th:only-of-type {\n",
              "        vertical-align: middle;\n",
              "    }\n",
              "\n",
              "    .dataframe tbody tr th {\n",
              "        vertical-align: top;\n",
              "    }\n",
              "\n",
              "    .dataframe thead th {\n",
              "        text-align: right;\n",
              "    }\n",
              "</style>\n",
              "<table border=\"1\" class=\"dataframe\">\n",
              "  <thead>\n",
              "    <tr style=\"text-align: right;\">\n",
              "      <th></th>\n",
              "      <th>Cust_id</th>\n",
              "      <th>Country_code</th>\n",
              "      <th>Sales_Type</th>\n",
              "      <th>Net_sales</th>\n",
              "      <th>Invoice_Amount</th>\n",
              "    </tr>\n",
              "  </thead>\n",
              "  <tbody>\n",
              "    <tr>\n",
              "      <th>0</th>\n",
              "      <td>SIE39906</td>\n",
              "      <td>SIE</td>\n",
              "      <td>Direct</td>\n",
              "      <td>1</td>\n",
              "      <td>400</td>\n",
              "    </tr>\n",
              "    <tr>\n",
              "      <th>1</th>\n",
              "      <td>AFG39258</td>\n",
              "      <td>AFG</td>\n",
              "      <td>Website</td>\n",
              "      <td>2</td>\n",
              "      <td>400</td>\n",
              "    </tr>\n",
              "    <tr>\n",
              "      <th>2</th>\n",
              "      <td>CAN39302</td>\n",
              "      <td>CAN</td>\n",
              "      <td>Website</td>\n",
              "      <td>2</td>\n",
              "      <td>400</td>\n",
              "    </tr>\n",
              "    <tr>\n",
              "      <th>3</th>\n",
              "      <td>POR39323</td>\n",
              "      <td>POR</td>\n",
              "      <td>Website</td>\n",
              "      <td>2</td>\n",
              "      <td>400</td>\n",
              "    </tr>\n",
              "    <tr>\n",
              "      <th>4</th>\n",
              "      <td>NOR39103</td>\n",
              "      <td>NOR</td>\n",
              "      <td>Other</td>\n",
              "      <td>3</td>\n",
              "      <td>600</td>\n",
              "    </tr>\n",
              "  </tbody>\n",
              "</table>\n",
              "</div>\n",
              "      <button class=\"colab-df-convert\" onclick=\"convertToInteractive('df-6d7d3370-e9d1-4eeb-8389-352a0fce1d22')\"\n",
              "              title=\"Convert this dataframe to an interactive table.\"\n",
              "              style=\"display:none;\">\n",
              "        \n",
              "  <svg xmlns=\"http://www.w3.org/2000/svg\" height=\"24px\"viewBox=\"0 0 24 24\"\n",
              "       width=\"24px\">\n",
              "    <path d=\"M0 0h24v24H0V0z\" fill=\"none\"/>\n",
              "    <path d=\"M18.56 5.44l.94 2.06.94-2.06 2.06-.94-2.06-.94-.94-2.06-.94 2.06-2.06.94zm-11 1L8.5 8.5l.94-2.06 2.06-.94-2.06-.94L8.5 2.5l-.94 2.06-2.06.94zm10 10l.94 2.06.94-2.06 2.06-.94-2.06-.94-.94-2.06-.94 2.06-2.06.94z\"/><path d=\"M17.41 7.96l-1.37-1.37c-.4-.4-.92-.59-1.43-.59-.52 0-1.04.2-1.43.59L10.3 9.45l-7.72 7.72c-.78.78-.78 2.05 0 2.83L4 21.41c.39.39.9.59 1.41.59.51 0 1.02-.2 1.41-.59l7.78-7.78 2.81-2.81c.8-.78.8-2.07 0-2.86zM5.41 20L4 18.59l7.72-7.72 1.47 1.35L5.41 20z\"/>\n",
              "  </svg>\n",
              "      </button>\n",
              "      \n",
              "  <style>\n",
              "    .colab-df-container {\n",
              "      display:flex;\n",
              "      flex-wrap:wrap;\n",
              "      gap: 12px;\n",
              "    }\n",
              "\n",
              "    .colab-df-convert {\n",
              "      background-color: #E8F0FE;\n",
              "      border: none;\n",
              "      border-radius: 50%;\n",
              "      cursor: pointer;\n",
              "      display: none;\n",
              "      fill: #1967D2;\n",
              "      height: 32px;\n",
              "      padding: 0 0 0 0;\n",
              "      width: 32px;\n",
              "    }\n",
              "\n",
              "    .colab-df-convert:hover {\n",
              "      background-color: #E2EBFA;\n",
              "      box-shadow: 0px 1px 2px rgba(60, 64, 67, 0.3), 0px 1px 3px 1px rgba(60, 64, 67, 0.15);\n",
              "      fill: #174EA6;\n",
              "    }\n",
              "\n",
              "    [theme=dark] .colab-df-convert {\n",
              "      background-color: #3B4455;\n",
              "      fill: #D2E3FC;\n",
              "    }\n",
              "\n",
              "    [theme=dark] .colab-df-convert:hover {\n",
              "      background-color: #434B5C;\n",
              "      box-shadow: 0px 1px 3px 1px rgba(0, 0, 0, 0.15);\n",
              "      filter: drop-shadow(0px 1px 2px rgba(0, 0, 0, 0.3));\n",
              "      fill: #FFFFFF;\n",
              "    }\n",
              "  </style>\n",
              "\n",
              "      <script>\n",
              "        const buttonEl =\n",
              "          document.querySelector('#df-6d7d3370-e9d1-4eeb-8389-352a0fce1d22 button.colab-df-convert');\n",
              "        buttonEl.style.display =\n",
              "          google.colab.kernel.accessAllowed ? 'block' : 'none';\n",
              "\n",
              "        async function convertToInteractive(key) {\n",
              "          const element = document.querySelector('#df-6d7d3370-e9d1-4eeb-8389-352a0fce1d22');\n",
              "          const dataTable =\n",
              "            await google.colab.kernel.invokeFunction('convertToInteractive',\n",
              "                                                     [key], {});\n",
              "          if (!dataTable) return;\n",
              "\n",
              "          const docLinkHtml = 'Like what you see? Visit the ' +\n",
              "            '<a target=\"_blank\" href=https://colab.research.google.com/notebooks/data_table.ipynb>data table notebook</a>'\n",
              "            + ' to learn more about interactive tables.';\n",
              "          element.innerHTML = '';\n",
              "          dataTable['output_type'] = 'display_data';\n",
              "          await google.colab.output.renderOutput(dataTable, element);\n",
              "          const docLink = document.createElement('div');\n",
              "          docLink.innerHTML = docLinkHtml;\n",
              "          element.appendChild(docLink);\n",
              "        }\n",
              "      </script>\n",
              "    </div>\n",
              "  </div>\n",
              "  "
            ]
          },
          "metadata": {},
          "execution_count": 93
        }
      ]
    },
    {
      "cell_type": "code",
      "execution_count": null,
      "metadata": {
        "id": "eVi8m0C-ecnG",
        "colab": {
          "base_uri": "https://localhost:8080/"
        },
        "outputId": "929b63a5-5d88-4aab-cff5-079b64c1be1a"
      },
      "outputs": [
        {
          "output_type": "stream",
          "name": "stdout",
          "text": [
            "(654, 5)\n",
            "Index(['Cust_id', 'CustName', 'Sales_Type', 'Net_sales', 'Invoice_Amount'], dtype='object')\n"
          ]
        }
      ],
      "source": [
        "product2= pd.read_csv(r\"Product2_orders.csv\")\n",
        "print(product2.shape)\n",
        "print(product2.columns)"
      ]
    },
    {
      "cell_type": "code",
      "source": [
        "product2.head()"
      ],
      "metadata": {
        "colab": {
          "base_uri": "https://localhost:8080/",
          "height": 206
        },
        "id": "KrTkde9iTt-H",
        "outputId": "233a933d-52eb-4af5-b98a-a9f97eb05294"
      },
      "execution_count": null,
      "outputs": [
        {
          "output_type": "execute_result",
          "data": {
            "text/plain": [
              "    Cust_id        CustName Sales_Type  Net_sales  Invoice_Amount\n",
              "0  SIE39906   Garrett Bauer     Direct          1             400\n",
              "1  EST39196     Rama Norris    Website          2             400\n",
              "2  AFG39258     Serena Carr    Website          2             400\n",
              "3  CAN39302  Brendan Daniel    Website          2             400\n",
              "4  POR39323  Judith Beasley    Website          2             400"
            ],
            "text/html": [
              "\n",
              "  <div id=\"df-701561b7-9cc9-47d2-a141-f354b59c95ba\">\n",
              "    <div class=\"colab-df-container\">\n",
              "      <div>\n",
              "<style scoped>\n",
              "    .dataframe tbody tr th:only-of-type {\n",
              "        vertical-align: middle;\n",
              "    }\n",
              "\n",
              "    .dataframe tbody tr th {\n",
              "        vertical-align: top;\n",
              "    }\n",
              "\n",
              "    .dataframe thead th {\n",
              "        text-align: right;\n",
              "    }\n",
              "</style>\n",
              "<table border=\"1\" class=\"dataframe\">\n",
              "  <thead>\n",
              "    <tr style=\"text-align: right;\">\n",
              "      <th></th>\n",
              "      <th>Cust_id</th>\n",
              "      <th>CustName</th>\n",
              "      <th>Sales_Type</th>\n",
              "      <th>Net_sales</th>\n",
              "      <th>Invoice_Amount</th>\n",
              "    </tr>\n",
              "  </thead>\n",
              "  <tbody>\n",
              "    <tr>\n",
              "      <th>0</th>\n",
              "      <td>SIE39906</td>\n",
              "      <td>Garrett Bauer</td>\n",
              "      <td>Direct</td>\n",
              "      <td>1</td>\n",
              "      <td>400</td>\n",
              "    </tr>\n",
              "    <tr>\n",
              "      <th>1</th>\n",
              "      <td>EST39196</td>\n",
              "      <td>Rama Norris</td>\n",
              "      <td>Website</td>\n",
              "      <td>2</td>\n",
              "      <td>400</td>\n",
              "    </tr>\n",
              "    <tr>\n",
              "      <th>2</th>\n",
              "      <td>AFG39258</td>\n",
              "      <td>Serena Carr</td>\n",
              "      <td>Website</td>\n",
              "      <td>2</td>\n",
              "      <td>400</td>\n",
              "    </tr>\n",
              "    <tr>\n",
              "      <th>3</th>\n",
              "      <td>CAN39302</td>\n",
              "      <td>Brendan Daniel</td>\n",
              "      <td>Website</td>\n",
              "      <td>2</td>\n",
              "      <td>400</td>\n",
              "    </tr>\n",
              "    <tr>\n",
              "      <th>4</th>\n",
              "      <td>POR39323</td>\n",
              "      <td>Judith Beasley</td>\n",
              "      <td>Website</td>\n",
              "      <td>2</td>\n",
              "      <td>400</td>\n",
              "    </tr>\n",
              "  </tbody>\n",
              "</table>\n",
              "</div>\n",
              "      <button class=\"colab-df-convert\" onclick=\"convertToInteractive('df-701561b7-9cc9-47d2-a141-f354b59c95ba')\"\n",
              "              title=\"Convert this dataframe to an interactive table.\"\n",
              "              style=\"display:none;\">\n",
              "        \n",
              "  <svg xmlns=\"http://www.w3.org/2000/svg\" height=\"24px\"viewBox=\"0 0 24 24\"\n",
              "       width=\"24px\">\n",
              "    <path d=\"M0 0h24v24H0V0z\" fill=\"none\"/>\n",
              "    <path d=\"M18.56 5.44l.94 2.06.94-2.06 2.06-.94-2.06-.94-.94-2.06-.94 2.06-2.06.94zm-11 1L8.5 8.5l.94-2.06 2.06-.94-2.06-.94L8.5 2.5l-.94 2.06-2.06.94zm10 10l.94 2.06.94-2.06 2.06-.94-2.06-.94-.94-2.06-.94 2.06-2.06.94z\"/><path d=\"M17.41 7.96l-1.37-1.37c-.4-.4-.92-.59-1.43-.59-.52 0-1.04.2-1.43.59L10.3 9.45l-7.72 7.72c-.78.78-.78 2.05 0 2.83L4 21.41c.39.39.9.59 1.41.59.51 0 1.02-.2 1.41-.59l7.78-7.78 2.81-2.81c.8-.78.8-2.07 0-2.86zM5.41 20L4 18.59l7.72-7.72 1.47 1.35L5.41 20z\"/>\n",
              "  </svg>\n",
              "      </button>\n",
              "      \n",
              "  <style>\n",
              "    .colab-df-container {\n",
              "      display:flex;\n",
              "      flex-wrap:wrap;\n",
              "      gap: 12px;\n",
              "    }\n",
              "\n",
              "    .colab-df-convert {\n",
              "      background-color: #E8F0FE;\n",
              "      border: none;\n",
              "      border-radius: 50%;\n",
              "      cursor: pointer;\n",
              "      display: none;\n",
              "      fill: #1967D2;\n",
              "      height: 32px;\n",
              "      padding: 0 0 0 0;\n",
              "      width: 32px;\n",
              "    }\n",
              "\n",
              "    .colab-df-convert:hover {\n",
              "      background-color: #E2EBFA;\n",
              "      box-shadow: 0px 1px 2px rgba(60, 64, 67, 0.3), 0px 1px 3px 1px rgba(60, 64, 67, 0.15);\n",
              "      fill: #174EA6;\n",
              "    }\n",
              "\n",
              "    [theme=dark] .colab-df-convert {\n",
              "      background-color: #3B4455;\n",
              "      fill: #D2E3FC;\n",
              "    }\n",
              "\n",
              "    [theme=dark] .colab-df-convert:hover {\n",
              "      background-color: #434B5C;\n",
              "      box-shadow: 0px 1px 3px 1px rgba(0, 0, 0, 0.15);\n",
              "      filter: drop-shadow(0px 1px 2px rgba(0, 0, 0, 0.3));\n",
              "      fill: #FFFFFF;\n",
              "    }\n",
              "  </style>\n",
              "\n",
              "      <script>\n",
              "        const buttonEl =\n",
              "          document.querySelector('#df-701561b7-9cc9-47d2-a141-f354b59c95ba button.colab-df-convert');\n",
              "        buttonEl.style.display =\n",
              "          google.colab.kernel.accessAllowed ? 'block' : 'none';\n",
              "\n",
              "        async function convertToInteractive(key) {\n",
              "          const element = document.querySelector('#df-701561b7-9cc9-47d2-a141-f354b59c95ba');\n",
              "          const dataTable =\n",
              "            await google.colab.kernel.invokeFunction('convertToInteractive',\n",
              "                                                     [key], {});\n",
              "          if (!dataTable) return;\n",
              "\n",
              "          const docLinkHtml = 'Like what you see? Visit the ' +\n",
              "            '<a target=\"_blank\" href=https://colab.research.google.com/notebooks/data_table.ipynb>data table notebook</a>'\n",
              "            + ' to learn more about interactive tables.';\n",
              "          element.innerHTML = '';\n",
              "          dataTable['output_type'] = 'display_data';\n",
              "          await google.colab.output.renderOutput(dataTable, element);\n",
              "          const docLink = document.createElement('div');\n",
              "          docLink.innerHTML = docLinkHtml;\n",
              "          element.appendChild(docLink);\n",
              "        }\n",
              "      </script>\n",
              "    </div>\n",
              "  </div>\n",
              "  "
            ]
          },
          "metadata": {},
          "execution_count": 94
        }
      ]
    },
    {
      "cell_type": "markdown",
      "metadata": {
        "id": "GJ1LbDEpesAA"
      },
      "source": [
        "#### Inner Join\n",
        "\n",
        "![image.png](data:image/png;base64,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)"
      ]
    },
    {
      "cell_type": "code",
      "execution_count": 96,
      "metadata": {
        "id": "tJP0qtovekOX",
        "colab": {
          "base_uri": "https://localhost:8080/"
        },
        "outputId": "675e5163-460c-4d1b-9614-8ee0e1fcf80a"
      },
      "outputs": [
        {
          "output_type": "stream",
          "name": "stdout",
          "text": [
            "(342, 9)\n"
          ]
        }
      ],
      "source": [
        "inner_data=pd.merge(product1, product2, on='Cust_id', how='inner')\n",
        "print(inner_data.shape)"
      ]
    },
    {
      "cell_type": "markdown",
      "metadata": {
        "id": "698LZ1dye7Fk"
      },
      "source": [
        "#### Outer join"
      ]
    },
    {
      "cell_type": "code",
      "execution_count": 97,
      "metadata": {
        "id": "aM6Ov1V0e3O8",
        "colab": {
          "base_uri": "https://localhost:8080/"
        },
        "outputId": "808618ae-b86b-4eb7-8c4e-22436ab82656"
      },
      "outputs": [
        {
          "output_type": "stream",
          "name": "stdout",
          "text": [
            "(977, 9)\n"
          ]
        }
      ],
      "source": [
        "outer_data=pd.merge(product1, product2, on='Cust_id', how='outer')\n",
        "print(outer_data.shape)"
      ]
    },
    {
      "cell_type": "markdown",
      "metadata": {
        "id": "lClhOCwNfBwY"
      },
      "source": [
        "#### Left outer join"
      ]
    },
    {
      "cell_type": "code",
      "execution_count": 98,
      "metadata": {
        "id": "YpDJ4GxJe-ys",
        "colab": {
          "base_uri": "https://localhost:8080/"
        },
        "outputId": "245463d1-bd57-4ef0-cc3d-90b112245c68"
      },
      "outputs": [
        {
          "output_type": "stream",
          "name": "stdout",
          "text": [
            "(665, 9)\n"
          ]
        }
      ],
      "source": [
        "L_outer_data=pd.merge(product1, product2, on='Cust_id', how='left')\n",
        "print(L_outer_data.shape)"
      ]
    },
    {
      "cell_type": "markdown",
      "metadata": {
        "id": "qNbxB_dcfIyV"
      },
      "source": [
        "#### Right outer join"
      ]
    },
    {
      "cell_type": "code",
      "execution_count": 99,
      "metadata": {
        "id": "yGLYsm-_fFPD",
        "colab": {
          "base_uri": "https://localhost:8080/"
        },
        "outputId": "1acaf17b-e560-48e9-fa59-d4945992d940"
      },
      "outputs": [
        {
          "output_type": "stream",
          "name": "stdout",
          "text": [
            "(654, 9)\n"
          ]
        }
      ],
      "source": [
        "R_outer_data=pd.merge(product1, product2, on='Cust_id', how='right')\n",
        "print(R_outer_data.shape)"
      ]
    },
    {
      "cell_type": "markdown",
      "metadata": {
        "id": "ouKv6ATYfXPD"
      },
      "source": [
        "#### Inner join 2\n",
        "\n",
        "If the comparing column name is different in two datasets, you can use left_on and right_on option "
      ]
    },
    {
      "cell_type": "code",
      "execution_count": 100,
      "metadata": {
        "id": "S6p4vHcgfMrw",
        "colab": {
          "base_uri": "https://localhost:8080/"
        },
        "outputId": "944b05f3-e2be-4b2d-b1b1-659537c1ee46"
      },
      "outputs": [
        {
          "output_type": "stream",
          "name": "stdout",
          "text": [
            "(342, 9)\n"
          ]
        }
      ],
      "source": [
        "inner_data1=pd.merge(product1, product2, left_on='Cust_id',right_on='Cust_id', how='inner')\n",
        "print(inner_data1.shape)"
      ]
    },
    {
      "cell_type": "markdown",
      "metadata": {
        "id": "NCRDBNbXg4ja"
      },
      "source": [
        "## Basic statistics and Data exploration"
      ]
    },
    {
      "cell_type": "markdown",
      "metadata": {
        "id": "JNwOtinEhJpX"
      },
      "source": [
        "### Basic descriptive statitics"
      ]
    },
    {
      "cell_type": "code",
      "execution_count": 101,
      "metadata": {
        "id": "9_73Jbfufaal",
        "colab": {
          "base_uri": "https://localhost:8080/"
        },
        "outputId": "033ecd71-2db5-47d2-a6a8-ce1de0feca7b"
      },
      "outputs": [
        {
          "output_type": "stream",
          "name": "stdout",
          "text": [
            "(32561, 15)\n",
            "Index(['age', 'workclass', 'fnlwgt', 'education', 'education-num',\n",
            "       'marital-status', 'occupation', 'relationship', 'race', 'sex',\n",
            "       'capital-gain', 'capital-loss', 'hours-per-week', 'native-country',\n",
            "       'Income_band'],\n",
            "      dtype='object')\n"
          ]
        }
      ],
      "source": [
        "import pandas as pd\n",
        "income_data= pd.read_csv(r\"Income_data.csv\")\n",
        "print(income_data.shape)\n",
        "print(income_data.columns)"
      ]
    },
    {
      "cell_type": "code",
      "source": [
        "income_data.head()"
      ],
      "metadata": {
        "colab": {
          "base_uri": "https://localhost:8080/",
          "height": 372
        },
        "id": "Zvur3G2rWjhU",
        "outputId": "699dd603-2720-47da-dc62-e9651d8855f7"
      },
      "execution_count": 112,
      "outputs": [
        {
          "output_type": "execute_result",
          "data": {
            "text/plain": [
              "   age          workclass  fnlwgt   education  education-num  \\\n",
              "0   39          State-gov   77516   Bachelors             13   \n",
              "1   50   Self-emp-not-inc   83311   Bachelors             13   \n",
              "2   38            Private  215646     HS-grad              9   \n",
              "3   53            Private  234721        11th              7   \n",
              "4   28            Private  338409   Bachelors             13   \n",
              "\n",
              "        marital-status          occupation    relationship    race      sex  \\\n",
              "0        Never-married        Adm-clerical   Not-in-family   White     Male   \n",
              "1   Married-civ-spouse     Exec-managerial         Husband   White     Male   \n",
              "2             Divorced   Handlers-cleaners   Not-in-family   White     Male   \n",
              "3   Married-civ-spouse   Handlers-cleaners         Husband   Black     Male   \n",
              "4   Married-civ-spouse      Prof-specialty            Wife   Black   Female   \n",
              "\n",
              "   capital-gain  capital-loss  hours-per-week  native-country Income_band  \n",
              "0          2174             0              40   United-States       <=50K  \n",
              "1             0             0              13   United-States       <=50K  \n",
              "2             0             0              40   United-States       <=50K  \n",
              "3             0             0              40   United-States       <=50K  \n",
              "4             0             0              40            Cuba       <=50K  "
            ],
            "text/html": [
              "\n",
              "  <div id=\"df-b47579ee-b359-47be-bcc0-73ca10dbb3a2\">\n",
              "    <div class=\"colab-df-container\">\n",
              "      <div>\n",
              "<style scoped>\n",
              "    .dataframe tbody tr th:only-of-type {\n",
              "        vertical-align: middle;\n",
              "    }\n",
              "\n",
              "    .dataframe tbody tr th {\n",
              "        vertical-align: top;\n",
              "    }\n",
              "\n",
              "    .dataframe thead th {\n",
              "        text-align: right;\n",
              "    }\n",
              "</style>\n",
              "<table border=\"1\" class=\"dataframe\">\n",
              "  <thead>\n",
              "    <tr style=\"text-align: right;\">\n",
              "      <th></th>\n",
              "      <th>age</th>\n",
              "      <th>workclass</th>\n",
              "      <th>fnlwgt</th>\n",
              "      <th>education</th>\n",
              "      <th>education-num</th>\n",
              "      <th>marital-status</th>\n",
              "      <th>occupation</th>\n",
              "      <th>relationship</th>\n",
              "      <th>race</th>\n",
              "      <th>sex</th>\n",
              "      <th>capital-gain</th>\n",
              "      <th>capital-loss</th>\n",
              "      <th>hours-per-week</th>\n",
              "      <th>native-country</th>\n",
              "      <th>Income_band</th>\n",
              "    </tr>\n",
              "  </thead>\n",
              "  <tbody>\n",
              "    <tr>\n",
              "      <th>0</th>\n",
              "      <td>39</td>\n",
              "      <td>State-gov</td>\n",
              "      <td>77516</td>\n",
              "      <td>Bachelors</td>\n",
              "      <td>13</td>\n",
              "      <td>Never-married</td>\n",
              "      <td>Adm-clerical</td>\n",
              "      <td>Not-in-family</td>\n",
              "      <td>White</td>\n",
              "      <td>Male</td>\n",
              "      <td>2174</td>\n",
              "      <td>0</td>\n",
              "      <td>40</td>\n",
              "      <td>United-States</td>\n",
              "      <td>&lt;=50K</td>\n",
              "    </tr>\n",
              "    <tr>\n",
              "      <th>1</th>\n",
              "      <td>50</td>\n",
              "      <td>Self-emp-not-inc</td>\n",
              "      <td>83311</td>\n",
              "      <td>Bachelors</td>\n",
              "      <td>13</td>\n",
              "      <td>Married-civ-spouse</td>\n",
              "      <td>Exec-managerial</td>\n",
              "      <td>Husband</td>\n",
              "      <td>White</td>\n",
              "      <td>Male</td>\n",
              "      <td>0</td>\n",
              "      <td>0</td>\n",
              "      <td>13</td>\n",
              "      <td>United-States</td>\n",
              "      <td>&lt;=50K</td>\n",
              "    </tr>\n",
              "    <tr>\n",
              "      <th>2</th>\n",
              "      <td>38</td>\n",
              "      <td>Private</td>\n",
              "      <td>215646</td>\n",
              "      <td>HS-grad</td>\n",
              "      <td>9</td>\n",
              "      <td>Divorced</td>\n",
              "      <td>Handlers-cleaners</td>\n",
              "      <td>Not-in-family</td>\n",
              "      <td>White</td>\n",
              "      <td>Male</td>\n",
              "      <td>0</td>\n",
              "      <td>0</td>\n",
              "      <td>40</td>\n",
              "      <td>United-States</td>\n",
              "      <td>&lt;=50K</td>\n",
              "    </tr>\n",
              "    <tr>\n",
              "      <th>3</th>\n",
              "      <td>53</td>\n",
              "      <td>Private</td>\n",
              "      <td>234721</td>\n",
              "      <td>11th</td>\n",
              "      <td>7</td>\n",
              "      <td>Married-civ-spouse</td>\n",
              "      <td>Handlers-cleaners</td>\n",
              "      <td>Husband</td>\n",
              "      <td>Black</td>\n",
              "      <td>Male</td>\n",
              "      <td>0</td>\n",
              "      <td>0</td>\n",
              "      <td>40</td>\n",
              "      <td>United-States</td>\n",
              "      <td>&lt;=50K</td>\n",
              "    </tr>\n",
              "    <tr>\n",
              "      <th>4</th>\n",
              "      <td>28</td>\n",
              "      <td>Private</td>\n",
              "      <td>338409</td>\n",
              "      <td>Bachelors</td>\n",
              "      <td>13</td>\n",
              "      <td>Married-civ-spouse</td>\n",
              "      <td>Prof-specialty</td>\n",
              "      <td>Wife</td>\n",
              "      <td>Black</td>\n",
              "      <td>Female</td>\n",
              "      <td>0</td>\n",
              "      <td>0</td>\n",
              "      <td>40</td>\n",
              "      <td>Cuba</td>\n",
              "      <td>&lt;=50K</td>\n",
              "    </tr>\n",
              "  </tbody>\n",
              "</table>\n",
              "</div>\n",
              "      <button class=\"colab-df-convert\" onclick=\"convertToInteractive('df-b47579ee-b359-47be-bcc0-73ca10dbb3a2')\"\n",
              "              title=\"Convert this dataframe to an interactive table.\"\n",
              "              style=\"display:none;\">\n",
              "        \n",
              "  <svg xmlns=\"http://www.w3.org/2000/svg\" height=\"24px\"viewBox=\"0 0 24 24\"\n",
              "       width=\"24px\">\n",
              "    <path d=\"M0 0h24v24H0V0z\" fill=\"none\"/>\n",
              "    <path d=\"M18.56 5.44l.94 2.06.94-2.06 2.06-.94-2.06-.94-.94-2.06-.94 2.06-2.06.94zm-11 1L8.5 8.5l.94-2.06 2.06-.94-2.06-.94L8.5 2.5l-.94 2.06-2.06.94zm10 10l.94 2.06.94-2.06 2.06-.94-2.06-.94-.94-2.06-.94 2.06-2.06.94z\"/><path d=\"M17.41 7.96l-1.37-1.37c-.4-.4-.92-.59-1.43-.59-.52 0-1.04.2-1.43.59L10.3 9.45l-7.72 7.72c-.78.78-.78 2.05 0 2.83L4 21.41c.39.39.9.59 1.41.59.51 0 1.02-.2 1.41-.59l7.78-7.78 2.81-2.81c.8-.78.8-2.07 0-2.86zM5.41 20L4 18.59l7.72-7.72 1.47 1.35L5.41 20z\"/>\n",
              "  </svg>\n",
              "      </button>\n",
              "      \n",
              "  <style>\n",
              "    .colab-df-container {\n",
              "      display:flex;\n",
              "      flex-wrap:wrap;\n",
              "      gap: 12px;\n",
              "    }\n",
              "\n",
              "    .colab-df-convert {\n",
              "      background-color: #E8F0FE;\n",
              "      border: none;\n",
              "      border-radius: 50%;\n",
              "      cursor: pointer;\n",
              "      display: none;\n",
              "      fill: #1967D2;\n",
              "      height: 32px;\n",
              "      padding: 0 0 0 0;\n",
              "      width: 32px;\n",
              "    }\n",
              "\n",
              "    .colab-df-convert:hover {\n",
              "      background-color: #E2EBFA;\n",
              "      box-shadow: 0px 1px 2px rgba(60, 64, 67, 0.3), 0px 1px 3px 1px rgba(60, 64, 67, 0.15);\n",
              "      fill: #174EA6;\n",
              "    }\n",
              "\n",
              "    [theme=dark] .colab-df-convert {\n",
              "      background-color: #3B4455;\n",
              "      fill: #D2E3FC;\n",
              "    }\n",
              "\n",
              "    [theme=dark] .colab-df-convert:hover {\n",
              "      background-color: #434B5C;\n",
              "      box-shadow: 0px 1px 3px 1px rgba(0, 0, 0, 0.15);\n",
              "      filter: drop-shadow(0px 1px 2px rgba(0, 0, 0, 0.3));\n",
              "      fill: #FFFFFF;\n",
              "    }\n",
              "  </style>\n",
              "\n",
              "      <script>\n",
              "        const buttonEl =\n",
              "          document.querySelector('#df-b47579ee-b359-47be-bcc0-73ca10dbb3a2 button.colab-df-convert');\n",
              "        buttonEl.style.display =\n",
              "          google.colab.kernel.accessAllowed ? 'block' : 'none';\n",
              "\n",
              "        async function convertToInteractive(key) {\n",
              "          const element = document.querySelector('#df-b47579ee-b359-47be-bcc0-73ca10dbb3a2');\n",
              "          const dataTable =\n",
              "            await google.colab.kernel.invokeFunction('convertToInteractive',\n",
              "                                                     [key], {});\n",
              "          if (!dataTable) return;\n",
              "\n",
              "          const docLinkHtml = 'Like what you see? Visit the ' +\n",
              "            '<a target=\"_blank\" href=https://colab.research.google.com/notebooks/data_table.ipynb>data table notebook</a>'\n",
              "            + ' to learn more about interactive tables.';\n",
              "          element.innerHTML = '';\n",
              "          dataTable['output_type'] = 'display_data';\n",
              "          await google.colab.output.renderOutput(dataTable, element);\n",
              "          const docLink = document.createElement('div');\n",
              "          docLink.innerHTML = docLinkHtml;\n",
              "          element.appendChild(docLink);\n",
              "        }\n",
              "      </script>\n",
              "    </div>\n",
              "  </div>\n",
              "  "
            ]
          },
          "metadata": {},
          "execution_count": 112
        }
      ]
    },
    {
      "cell_type": "markdown",
      "metadata": {
        "id": "NbxgV9YZhN8V"
      },
      "source": [
        "#### Mean"
      ]
    },
    {
      "cell_type": "code",
      "execution_count": 102,
      "metadata": {
        "id": "kvMIDrvJh-6r",
        "colab": {
          "base_uri": "https://localhost:8080/"
        },
        "outputId": "b72997e5-6f6b-4473-f0ed-e7035f15531e"
      },
      "outputs": [
        {
          "output_type": "stream",
          "name": "stdout",
          "text": [
            "1077.6488437087312\n"
          ]
        }
      ],
      "source": [
        "print(income_data[\"capital-gain\"].mean())"
      ]
    },
    {
      "cell_type": "markdown",
      "metadata": {
        "id": "KWttTcq2im4f"
      },
      "source": [
        "#### Median"
      ]
    },
    {
      "cell_type": "code",
      "execution_count": 103,
      "metadata": {
        "id": "luazOuVKikDx",
        "colab": {
          "base_uri": "https://localhost:8080/"
        },
        "outputId": "7622bb1a-28f9-4539-87ef-b733a1edbe11"
      },
      "outputs": [
        {
          "output_type": "stream",
          "name": "stdout",
          "text": [
            "0.0\n"
          ]
        }
      ],
      "source": [
        "print(income_data[\"capital-gain\"].median())"
      ]
    },
    {
      "cell_type": "markdown",
      "metadata": {
        "id": "ShaEzfVXjA-Q"
      },
      "source": [
        "### Data exploration"
      ]
    },
    {
      "cell_type": "markdown",
      "metadata": {
        "id": "G_F_pXa2jYC-"
      },
      "source": [
        "#### Exploring numeric continuous variables\n",
        "\n",
        "To explore continuous variables, we use percentiles and percentile distributions. First, let’s try to explore what percentiles are. "
      ]
    },
    {
      "cell_type": "markdown",
      "metadata": {
        "id": "_pEcZ52ojoFK"
      },
      "source": [
        "##### Percentiles"
      ]
    },
    {
      "cell_type": "markdown",
      "metadata": {
        "id": "pDgoGUvHso41"
      },
      "source": [
        "The variable we are going to use here is capital-gain from income data. In previous discussions, we had already identified something fishy about this variable. Mean is 1,077.6 and median is 0. Let’s now try to calculate it’s percentile values. "
      ]
    },
    {
      "cell_type": "code",
      "execution_count": 104,
      "metadata": {
        "id": "PiTMMrZYisgl",
        "colab": {
          "base_uri": "https://localhost:8080/"
        },
        "outputId": "66040fdb-2917-47c0-ccf9-dfa6b1c49e7f"
      },
      "outputs": [
        {
          "output_type": "stream",
          "name": "stdout",
          "text": [
            "0.0\n"
          ]
        }
      ],
      "source": [
        "print(income_data[\"capital-gain\"].quantile(0.2))"
      ]
    },
    {
      "cell_type": "code",
      "execution_count": 105,
      "metadata": {
        "id": "RqMwTe7mjwgj",
        "colab": {
          "base_uri": "https://localhost:8080/"
        },
        "outputId": "686e6836-16c6-483e-a340-b72d1e5aee71"
      },
      "outputs": [
        {
          "output_type": "stream",
          "name": "stdout",
          "text": [
            "0.0        0.0\n",
            "0.1        0.0\n",
            "0.2        0.0\n",
            "0.3        0.0\n",
            "0.4        0.0\n",
            "0.5        0.0\n",
            "0.6        0.0\n",
            "0.7        0.0\n",
            "0.8        0.0\n",
            "0.9        0.0\n",
            "1.0    99999.0\n",
            "Name: capital-gain, dtype: float64\n"
          ]
        }
      ],
      "source": [
        "print(income_data[\"capital-gain\"].quantile([0,0.1,0.2,0.3,0.4,0.5,0.6,0.7,0.8,0.9,1]))"
      ]
    },
    {
      "cell_type": "markdown",
      "metadata": {
        "id": "XCNS5Iz7u-uL"
      },
      "source": [
        "The output is not really what we expected. At the first glance it is confusing and not easy to comprehend. Let’s study through the output. There are two columns in the output. First column is the percentile, and the other its value. Which is value?  It is value of the variable, which is capital-gain in this case."
      ]
    },
    {
      "cell_type": "code",
      "execution_count": 106,
      "metadata": {
        "id": "OZWNn1RCjyM_",
        "colab": {
          "base_uri": "https://localhost:8080/"
        },
        "outputId": "cea5a7d9-4450-4843-c646-bf94866d7de6"
      },
      "outputs": [
        {
          "output_type": "stream",
          "name": "stdout",
          "text": [
            "0.90        0.0\n",
            "0.91        0.0\n",
            "0.92     1458.2\n",
            "0.93     2885.0\n",
            "0.94     3818.0\n",
            "0.95     5013.0\n",
            "0.96     7298.0\n",
            "0.97     7688.0\n",
            "0.98    14084.0\n",
            "0.99    15024.0\n",
            "1.00    99999.0\n",
            "Name: capital-gain, dtype: float64\n"
          ]
        }
      ],
      "source": [
        "print(income_data[\"capital-gain\"].quantile([0.9,0.91,0.92,0.93,0.94,0.95,0.96,0.97,0.98,0.99,1]))"
      ]
    },
    {
      "cell_type": "markdown",
      "metadata": {
        "id": "dS90OdnHvayA"
      },
      "source": [
        "As you can see 91 percentiles is zero, from 92 percentile onwards we see some positive values. Which means, 91% of the data is simply zeros, only remaining 9% of the data has some positive values. "
      ]
    },
    {
      "cell_type": "markdown",
      "metadata": {
        "id": "6oBy2iX-39JC"
      },
      "source": [
        "For exploring continuous variables we need to use percentiles. They will not only show you the complete distribution of a variable, but they will also help you in identifying outliers in the process. You can even guess what percentage of the data outliers are. If you have a continuous variable, it can take almost any value. It helps to use percentiles if you wish to get a feel of its distribution."
      ]
    },
    {
      "cell_type": "markdown",
      "metadata": {
        "id": "aei1v7lKCYGZ"
      },
      "source": [
        "**Example of Percentile**\n",
        "\n",
        "Let’s first get the standard percentiles as usual and identify any deep dive areas. For this exercise more than 60 hours is on the higher side and less than 20 lowers. we are not really interested in less than 24 and greater than 55. Let’s start with the deep dive of top 10 percentile. \n",
        "We need to drill down first 10 and last 10 percentiles. As our limits are 20 and 60, "
      ]
    },
    {
      "cell_type": "code",
      "execution_count": 107,
      "metadata": {
        "id": "uKkzLlagkFHf",
        "colab": {
          "base_uri": "https://localhost:8080/"
        },
        "outputId": "01a54918-43bd-4a5d-bd0f-3f4d12f2986c"
      },
      "outputs": [
        {
          "output_type": "stream",
          "name": "stdout",
          "text": [
            "0.0     1.0\n",
            "0.1    24.0\n",
            "0.2    35.0\n",
            "0.3    40.0\n",
            "0.4    40.0\n",
            "0.5    40.0\n",
            "0.6    40.0\n",
            "0.7    40.0\n",
            "0.8    48.0\n",
            "0.9    55.0\n",
            "1.0    99.0\n",
            "Name: hours-per-week, dtype: float64\n",
            "0.90    55.0\n",
            "0.91    55.0\n",
            "0.92    58.0\n",
            "0.93    60.0\n",
            "0.94    60.0\n",
            "0.95    60.0\n",
            "0.96    60.0\n",
            "0.97    65.0\n",
            "0.98    70.0\n",
            "0.99    80.0\n",
            "1.00    99.0\n",
            "Name: hours-per-week, dtype: float64\n",
            "0.00     1.0\n",
            "0.01     8.0\n",
            "0.02    10.0\n",
            "0.03    14.8\n",
            "0.04    15.0\n",
            "0.05    18.0\n",
            "0.06    20.0\n",
            "0.07    20.0\n",
            "0.08    20.0\n",
            "0.09    21.0\n",
            "0.10    24.0\n",
            "Name: hours-per-week, dtype: float64\n"
          ]
        }
      ],
      "source": [
        "print(income_data[\"hours-per-week\"].quantile([0,0.1,0.2,0.3,0.4,0.5,0.6,0.7,0.8,0.9,1]))\n",
        "print(income_data[\"hours-per-week\"].quantile([0.9,0.91,0.92,0.93,0.94,0.95,0.96,0.97,0.98,0.99,1]))\n",
        "print(income_data[\"hours-per-week\"].quantile([0,0.01,0.02,0.03,0.04,0.05,0.06,0.07,0.08,0.09,0.1]))"
      ]
    },
    {
      "cell_type": "markdown",
      "metadata": {
        "id": "OgTrgi-tEboK"
      },
      "source": [
        "Now let’s proceed to detection of outliers on the higher side. The output clearly shows 92% of the data is less than 60 and remaining 8% is more than or equal to 60%, so, 8% can be termed as high side outliers. If we are looking for strictly more than 60 hours, then it is 4% of the data.\n",
        "\n",
        "In the output we can clearly observe 8% of the data is less than or equal to 20 hours. The lower side outlier percentage is 8%. If you are strictly looking for the data less than 20 and ignore values equal to 20 hours, this percentile stands at 5%. "
      ]
    },
    {
      "cell_type": "markdown",
      "metadata": {
        "id": "d4CzS2bCE_fk"
      },
      "source": [
        "**Finally, we have 4% high side outliers and low side 5% outliers. This is how you detect outliers and explore continuous variables.**"
      ]
    },
    {
      "cell_type": "markdown",
      "metadata": {
        "id": "R9RNcsoKk-x2"
      },
      "source": [
        "#### Exploring discrete and categorical variables\n",
        "Categorial variables have certain classes. These classes are nothing but the categories. To explore a categorical variable, we need to create a frequency table, which is much like a group by table or a summary table. A frequency table contains all the available categories (in a given set of data) and frequency counts or number of occurrences of each category type. You will get an idea on all unique classes and their weightage in the given data. "
      ]
    },
    {
      "cell_type": "code",
      "execution_count": 108,
      "metadata": {
        "id": "K2g58Ap1kvMn",
        "colab": {
          "base_uri": "https://localhost:8080/"
        },
        "outputId": "18ffbbe2-f66e-4498-9296-3b2b28238d87"
      },
      "outputs": [
        {
          "output_type": "execute_result",
          "data": {
            "text/plain": [
              " HS-grad         10501\n",
              " Some-college     7291\n",
              " Bachelors        5355\n",
              " Masters          1723\n",
              " Assoc-voc        1382\n",
              " 11th             1175\n",
              " Assoc-acdm       1067\n",
              " 10th              933\n",
              " 7th-8th           646\n",
              " Prof-school       576\n",
              " 9th               514\n",
              " 12th              433\n",
              " Doctorate         413\n",
              " 5th-6th           333\n",
              " 1st-4th           168\n",
              " Preschool          51\n",
              "Name: education, dtype: int64"
            ]
          },
          "metadata": {},
          "execution_count": 108
        }
      ],
      "source": [
        "income_data[\"education\"].value_counts()"
      ]
    },
    {
      "cell_type": "markdown",
      "metadata": {
        "id": "iAHrf78VI14O"
      },
      "source": [
        "**Along with percentage:**\n",
        "we are trying to first create frequency counts, then percentages are calculated using normalize=True option. We then concatenate frequency and percentages into a table. axis=1 , which indicates we are concatenating columns. The parameter keys mentions the actual column names in the resultant table. "
      ]
    },
    {
      "cell_type": "code",
      "execution_count": 109,
      "metadata": {
        "id": "Y07IjVA7lcxI",
        "colab": {
          "base_uri": "https://localhost:8080/"
        },
        "outputId": "0c7a1950-4b9b-43f6-9b6c-000e03fbc1e4"
      },
      "outputs": [
        {
          "output_type": "stream",
          "name": "stdout",
          "text": [
            "               counts   percent\n",
            " HS-grad        10501  0.322502\n",
            " Some-college    7291  0.223918\n",
            " Bachelors       5355  0.164461\n",
            " Masters         1723  0.052916\n",
            " Assoc-voc       1382  0.042443\n",
            " 11th            1175  0.036086\n",
            " Assoc-acdm      1067  0.032769\n",
            " 10th             933  0.028654\n",
            " 7th-8th          646  0.019840\n",
            " Prof-school      576  0.017690\n",
            " 9th              514  0.015786\n",
            " 12th             433  0.013298\n",
            " Doctorate        413  0.012684\n",
            " 5th-6th          333  0.010227\n",
            " 1st-4th          168  0.005160\n",
            " Preschool         51  0.001566\n"
          ]
        }
      ],
      "source": [
        "freq=income_data[\"education\"].value_counts()\n",
        "percent=income_data[\"education\"].value_counts(normalize=True)\n",
        "freq_table=pd.concat([freq,percent], axis=1, keys=[\"counts\",\"percent\"])\n",
        "print(freq_table)"
      ]
    },
    {
      "cell_type": "code",
      "execution_count": 110,
      "metadata": {
        "id": "0EtzwEnAlfIi",
        "colab": {
          "base_uri": "https://localhost:8080/"
        },
        "outputId": "02fe8f7d-2bc8-4886-9a29-dac3adb922b8"
      },
      "outputs": [
        {
          "output_type": "execute_result",
          "data": {
            "text/plain": [
              " Private             22696\n",
              " Self-emp-not-inc     2541\n",
              " Local-gov            2093\n",
              " ?                    1836\n",
              " State-gov            1298\n",
              " Self-emp-inc         1116\n",
              " Federal-gov           960\n",
              " Without-pay            14\n",
              " Never-worked            7\n",
              "Name: workclass, dtype: int64"
            ]
          },
          "metadata": {},
          "execution_count": 110
        }
      ],
      "source": [
        "#Frequnecy example -2 \n",
        "income_data[\"workclass\"].value_counts()"
      ]
    },
    {
      "cell_type": "markdown",
      "metadata": {
        "id": "PeB7r4HJJOWJ"
      },
      "source": [
        "**Cross tab:**\n",
        "\n",
        "Only 24% are earning more than 50K in the entire available data. Now let’s create a cross tab by comparing both education and income band. After that we will try get to get the income band distribution in each class of education "
      ]
    },
    {
      "cell_type": "code",
      "execution_count": 111,
      "metadata": {
        "id": "Jp7hhXl8lhOu",
        "colab": {
          "base_uri": "https://localhost:8080/"
        },
        "outputId": "5878981c-0922-44e7-c65d-9ac0c2a02025"
      },
      "outputs": [
        {
          "output_type": "stream",
          "name": "stdout",
          "text": [
            " <=50K    24720\n",
            " >50K      7841\n",
            "Name: Income_band, dtype: int64\n",
            " <=50K    0.75919\n",
            " >50K     0.24081\n",
            "Name: Income_band, dtype: float64\n",
            "Income_band     <=50K   >50K     <=50K      >50K\n",
            "education                                       \n",
            " 10th             871     62  0.933548  0.066452\n",
            " 11th            1115     60  0.948936  0.051064\n",
            " 12th             400     33  0.923788  0.076212\n",
            " 1st-4th          162      6  0.964286  0.035714\n",
            " 5th-6th          317     16  0.951952  0.048048\n",
            " 7th-8th          606     40  0.938080  0.061920\n",
            " 9th              487     27  0.947471  0.052529\n",
            " Assoc-acdm       802    265  0.751640  0.248360\n",
            " Assoc-voc       1021    361  0.738784  0.261216\n",
            " Bachelors       3134   2221  0.585247  0.414753\n",
            " Doctorate        107    306  0.259080  0.740920\n",
            " HS-grad         8826   1675  0.840491  0.159509\n",
            " Masters          764    959  0.443413  0.556587\n",
            " Preschool         51      0  1.000000  0.000000\n",
            " Prof-school      153    423  0.265625  0.734375\n",
            " Some-college    5904   1387  0.809765  0.190235\n"
          ]
        }
      ],
      "source": [
        "#Cross tab\n",
        "print(income_data[\"Income_band\"].value_counts())\n",
        "print(income_data[\"Income_band\"].value_counts(normalize=True))\n",
        "cross_tab=pd.crosstab(income_data[\"education\"],income_data['Income_band'])\n",
        "cross_tab_p=cross_tab.astype(float).div(cross_tab.sum(axis=1), axis=0)\n",
        "final_table=pd.concat([cross_tab,cross_tab_p], axis=1)\n",
        "print(final_table)\n"
      ]
    },
    {
      "cell_type": "markdown",
      "source": [
        "#### Group By"
      ],
      "metadata": {
        "id": "GZ_vIuOAXAPF"
      }
    },
    {
      "cell_type": "code",
      "execution_count": 119,
      "metadata": {
        "id": "q272U92aHCji",
        "colab": {
          "base_uri": "https://localhost:8080/",
          "height": 582
        },
        "outputId": "28a1eb0b-2dc6-408f-8aca-b2b33b67d5b3"
      },
      "outputs": [
        {
          "output_type": "execute_result",
          "data": {
            "text/plain": [
              "                     age         fnlwgt  education-num  capital-gain  \\\n",
              "education                                                              \n",
              " 10th          37.429796  196832.465166            6.0    404.574491   \n",
              " 11th          32.355745  194928.077447            7.0    215.097872   \n",
              " 12th          32.000000  199097.508083            8.0    284.087760   \n",
              " 1st-4th       46.142857  239303.000000            2.0    125.875000   \n",
              " 5th-6th       42.885886  232448.333333            3.0    176.021021   \n",
              " 7th-8th       48.445820  188079.171827            4.0    233.939628   \n",
              " 9th           41.060311  202485.066148            5.0    342.089494   \n",
              " Assoc-acdm    37.381443  193424.093721           12.0    640.399250   \n",
              " Assoc-voc     38.553546  181936.016643           11.0    715.051375   \n",
              " Bachelors     38.904949  188055.914846           13.0   1756.299533   \n",
              " Doctorate     47.702179  186698.760291           16.0   4770.145278   \n",
              " HS-grad       38.974479  189538.739739            9.0    576.800114   \n",
              " Masters       44.049913  179852.362739           14.0   2562.563552   \n",
              " Preschool     42.764706  235889.372549            1.0    898.392157   \n",
              " Prof-school   44.746528  185663.706597           15.0  10414.416667   \n",
              " Some-college  35.756275  188742.922370           10.0    598.824167   \n",
              "\n",
              "               capital-loss  hours-per-week  \n",
              "education                                    \n",
              " 10th             56.845659       37.052519  \n",
              " 11th             50.079149       33.925957  \n",
              " 12th             32.337182       35.780600  \n",
              " 1st-4th          48.327381       38.255952  \n",
              " 5th-6th          68.252252       38.897898  \n",
              " 7th-8th          65.668731       39.366873  \n",
              " 9th              28.998054       38.044747  \n",
              " Assoc-acdm       93.418932       40.504217  \n",
              " Assoc-voc        72.754703       41.610709  \n",
              " Bachelors       118.350327       42.614006  \n",
              " Doctorate       262.845036       46.973366  \n",
              " HS-grad          70.466622       40.575374  \n",
              " Masters         166.719675       43.836332  \n",
              " Preschool        66.490196       36.647059  \n",
              " Prof-school     231.203125       47.425347  \n",
              " Some-college     71.637087       38.852284  "
            ],
            "text/html": [
              "\n",
              "  <div id=\"df-4dea4111-d0ec-4183-afc4-b44710fd45e2\">\n",
              "    <div class=\"colab-df-container\">\n",
              "      <div>\n",
              "<style scoped>\n",
              "    .dataframe tbody tr th:only-of-type {\n",
              "        vertical-align: middle;\n",
              "    }\n",
              "\n",
              "    .dataframe tbody tr th {\n",
              "        vertical-align: top;\n",
              "    }\n",
              "\n",
              "    .dataframe thead th {\n",
              "        text-align: right;\n",
              "    }\n",
              "</style>\n",
              "<table border=\"1\" class=\"dataframe\">\n",
              "  <thead>\n",
              "    <tr style=\"text-align: right;\">\n",
              "      <th></th>\n",
              "      <th>age</th>\n",
              "      <th>fnlwgt</th>\n",
              "      <th>education-num</th>\n",
              "      <th>capital-gain</th>\n",
              "      <th>capital-loss</th>\n",
              "      <th>hours-per-week</th>\n",
              "    </tr>\n",
              "    <tr>\n",
              "      <th>education</th>\n",
              "      <th></th>\n",
              "      <th></th>\n",
              "      <th></th>\n",
              "      <th></th>\n",
              "      <th></th>\n",
              "      <th></th>\n",
              "    </tr>\n",
              "  </thead>\n",
              "  <tbody>\n",
              "    <tr>\n",
              "      <th>10th</th>\n",
              "      <td>37.429796</td>\n",
              "      <td>196832.465166</td>\n",
              "      <td>6.0</td>\n",
              "      <td>404.574491</td>\n",
              "      <td>56.845659</td>\n",
              "      <td>37.052519</td>\n",
              "    </tr>\n",
              "    <tr>\n",
              "      <th>11th</th>\n",
              "      <td>32.355745</td>\n",
              "      <td>194928.077447</td>\n",
              "      <td>7.0</td>\n",
              "      <td>215.097872</td>\n",
              "      <td>50.079149</td>\n",
              "      <td>33.925957</td>\n",
              "    </tr>\n",
              "    <tr>\n",
              "      <th>12th</th>\n",
              "      <td>32.000000</td>\n",
              "      <td>199097.508083</td>\n",
              "      <td>8.0</td>\n",
              "      <td>284.087760</td>\n",
              "      <td>32.337182</td>\n",
              "      <td>35.780600</td>\n",
              "    </tr>\n",
              "    <tr>\n",
              "      <th>1st-4th</th>\n",
              "      <td>46.142857</td>\n",
              "      <td>239303.000000</td>\n",
              "      <td>2.0</td>\n",
              "      <td>125.875000</td>\n",
              "      <td>48.327381</td>\n",
              "      <td>38.255952</td>\n",
              "    </tr>\n",
              "    <tr>\n",
              "      <th>5th-6th</th>\n",
              "      <td>42.885886</td>\n",
              "      <td>232448.333333</td>\n",
              "      <td>3.0</td>\n",
              "      <td>176.021021</td>\n",
              "      <td>68.252252</td>\n",
              "      <td>38.897898</td>\n",
              "    </tr>\n",
              "    <tr>\n",
              "      <th>7th-8th</th>\n",
              "      <td>48.445820</td>\n",
              "      <td>188079.171827</td>\n",
              "      <td>4.0</td>\n",
              "      <td>233.939628</td>\n",
              "      <td>65.668731</td>\n",
              "      <td>39.366873</td>\n",
              "    </tr>\n",
              "    <tr>\n",
              "      <th>9th</th>\n",
              "      <td>41.060311</td>\n",
              "      <td>202485.066148</td>\n",
              "      <td>5.0</td>\n",
              "      <td>342.089494</td>\n",
              "      <td>28.998054</td>\n",
              "      <td>38.044747</td>\n",
              "    </tr>\n",
              "    <tr>\n",
              "      <th>Assoc-acdm</th>\n",
              "      <td>37.381443</td>\n",
              "      <td>193424.093721</td>\n",
              "      <td>12.0</td>\n",
              "      <td>640.399250</td>\n",
              "      <td>93.418932</td>\n",
              "      <td>40.504217</td>\n",
              "    </tr>\n",
              "    <tr>\n",
              "      <th>Assoc-voc</th>\n",
              "      <td>38.553546</td>\n",
              "      <td>181936.016643</td>\n",
              "      <td>11.0</td>\n",
              "      <td>715.051375</td>\n",
              "      <td>72.754703</td>\n",
              "      <td>41.610709</td>\n",
              "    </tr>\n",
              "    <tr>\n",
              "      <th>Bachelors</th>\n",
              "      <td>38.904949</td>\n",
              "      <td>188055.914846</td>\n",
              "      <td>13.0</td>\n",
              "      <td>1756.299533</td>\n",
              "      <td>118.350327</td>\n",
              "      <td>42.614006</td>\n",
              "    </tr>\n",
              "    <tr>\n",
              "      <th>Doctorate</th>\n",
              "      <td>47.702179</td>\n",
              "      <td>186698.760291</td>\n",
              "      <td>16.0</td>\n",
              "      <td>4770.145278</td>\n",
              "      <td>262.845036</td>\n",
              "      <td>46.973366</td>\n",
              "    </tr>\n",
              "    <tr>\n",
              "      <th>HS-grad</th>\n",
              "      <td>38.974479</td>\n",
              "      <td>189538.739739</td>\n",
              "      <td>9.0</td>\n",
              "      <td>576.800114</td>\n",
              "      <td>70.466622</td>\n",
              "      <td>40.575374</td>\n",
              "    </tr>\n",
              "    <tr>\n",
              "      <th>Masters</th>\n",
              "      <td>44.049913</td>\n",
              "      <td>179852.362739</td>\n",
              "      <td>14.0</td>\n",
              "      <td>2562.563552</td>\n",
              "      <td>166.719675</td>\n",
              "      <td>43.836332</td>\n",
              "    </tr>\n",
              "    <tr>\n",
              "      <th>Preschool</th>\n",
              "      <td>42.764706</td>\n",
              "      <td>235889.372549</td>\n",
              "      <td>1.0</td>\n",
              "      <td>898.392157</td>\n",
              "      <td>66.490196</td>\n",
              "      <td>36.647059</td>\n",
              "    </tr>\n",
              "    <tr>\n",
              "      <th>Prof-school</th>\n",
              "      <td>44.746528</td>\n",
              "      <td>185663.706597</td>\n",
              "      <td>15.0</td>\n",
              "      <td>10414.416667</td>\n",
              "      <td>231.203125</td>\n",
              "      <td>47.425347</td>\n",
              "    </tr>\n",
              "    <tr>\n",
              "      <th>Some-college</th>\n",
              "      <td>35.756275</td>\n",
              "      <td>188742.922370</td>\n",
              "      <td>10.0</td>\n",
              "      <td>598.824167</td>\n",
              "      <td>71.637087</td>\n",
              "      <td>38.852284</td>\n",
              "    </tr>\n",
              "  </tbody>\n",
              "</table>\n",
              "</div>\n",
              "      <button class=\"colab-df-convert\" onclick=\"convertToInteractive('df-4dea4111-d0ec-4183-afc4-b44710fd45e2')\"\n",
              "              title=\"Convert this dataframe to an interactive table.\"\n",
              "              style=\"display:none;\">\n",
              "        \n",
              "  <svg xmlns=\"http://www.w3.org/2000/svg\" height=\"24px\"viewBox=\"0 0 24 24\"\n",
              "       width=\"24px\">\n",
              "    <path d=\"M0 0h24v24H0V0z\" fill=\"none\"/>\n",
              "    <path d=\"M18.56 5.44l.94 2.06.94-2.06 2.06-.94-2.06-.94-.94-2.06-.94 2.06-2.06.94zm-11 1L8.5 8.5l.94-2.06 2.06-.94-2.06-.94L8.5 2.5l-.94 2.06-2.06.94zm10 10l.94 2.06.94-2.06 2.06-.94-2.06-.94-.94-2.06-.94 2.06-2.06.94z\"/><path d=\"M17.41 7.96l-1.37-1.37c-.4-.4-.92-.59-1.43-.59-.52 0-1.04.2-1.43.59L10.3 9.45l-7.72 7.72c-.78.78-.78 2.05 0 2.83L4 21.41c.39.39.9.59 1.41.59.51 0 1.02-.2 1.41-.59l7.78-7.78 2.81-2.81c.8-.78.8-2.07 0-2.86zM5.41 20L4 18.59l7.72-7.72 1.47 1.35L5.41 20z\"/>\n",
              "  </svg>\n",
              "      </button>\n",
              "      \n",
              "  <style>\n",
              "    .colab-df-container {\n",
              "      display:flex;\n",
              "      flex-wrap:wrap;\n",
              "      gap: 12px;\n",
              "    }\n",
              "\n",
              "    .colab-df-convert {\n",
              "      background-color: #E8F0FE;\n",
              "      border: none;\n",
              "      border-radius: 50%;\n",
              "      cursor: pointer;\n",
              "      display: none;\n",
              "      fill: #1967D2;\n",
              "      height: 32px;\n",
              "      padding: 0 0 0 0;\n",
              "      width: 32px;\n",
              "    }\n",
              "\n",
              "    .colab-df-convert:hover {\n",
              "      background-color: #E2EBFA;\n",
              "      box-shadow: 0px 1px 2px rgba(60, 64, 67, 0.3), 0px 1px 3px 1px rgba(60, 64, 67, 0.15);\n",
              "      fill: #174EA6;\n",
              "    }\n",
              "\n",
              "    [theme=dark] .colab-df-convert {\n",
              "      background-color: #3B4455;\n",
              "      fill: #D2E3FC;\n",
              "    }\n",
              "\n",
              "    [theme=dark] .colab-df-convert:hover {\n",
              "      background-color: #434B5C;\n",
              "      box-shadow: 0px 1px 3px 1px rgba(0, 0, 0, 0.15);\n",
              "      filter: drop-shadow(0px 1px 2px rgba(0, 0, 0, 0.3));\n",
              "      fill: #FFFFFF;\n",
              "    }\n",
              "  </style>\n",
              "\n",
              "      <script>\n",
              "        const buttonEl =\n",
              "          document.querySelector('#df-4dea4111-d0ec-4183-afc4-b44710fd45e2 button.colab-df-convert');\n",
              "        buttonEl.style.display =\n",
              "          google.colab.kernel.accessAllowed ? 'block' : 'none';\n",
              "\n",
              "        async function convertToInteractive(key) {\n",
              "          const element = document.querySelector('#df-4dea4111-d0ec-4183-afc4-b44710fd45e2');\n",
              "          const dataTable =\n",
              "            await google.colab.kernel.invokeFunction('convertToInteractive',\n",
              "                                                     [key], {});\n",
              "          if (!dataTable) return;\n",
              "\n",
              "          const docLinkHtml = 'Like what you see? Visit the ' +\n",
              "            '<a target=\"_blank\" href=https://colab.research.google.com/notebooks/data_table.ipynb>data table notebook</a>'\n",
              "            + ' to learn more about interactive tables.';\n",
              "          element.innerHTML = '';\n",
              "          dataTable['output_type'] = 'display_data';\n",
              "          await google.colab.output.renderOutput(dataTable, element);\n",
              "          const docLink = document.createElement('div');\n",
              "          docLink.innerHTML = docLinkHtml;\n",
              "          element.appendChild(docLink);\n",
              "        }\n",
              "      </script>\n",
              "    </div>\n",
              "  </div>\n",
              "  "
            ]
          },
          "metadata": {},
          "execution_count": 119
        }
      ],
      "source": [
        "income_data.groupby(\"education\").mean()"
      ]
    },
    {
      "cell_type": "code",
      "source": [
        "def agg_func(series):\n",
        "  return series.mean()\n",
        "\n",
        "income_data.groupby(\"education\").agg(agg_func)"
      ],
      "metadata": {
        "colab": {
          "base_uri": "https://localhost:8080/",
          "height": 637
        },
        "id": "KYvbVVpCXC_h",
        "outputId": "7d571383-da38-4a7c-c09e-0fc016f7fdc1"
      },
      "execution_count": 124,
      "outputs": [
        {
          "output_type": "stream",
          "name": "stderr",
          "text": [
            "/usr/local/lib/python3.8/dist-packages/pandas/core/groupby/generic.py:303: FutureWarning: Dropping invalid columns in SeriesGroupBy.agg is deprecated. In a future version, a TypeError will be raised. Before calling .agg, select only columns which should be valid for the aggregating function.\n",
            "  results[key] = self.aggregate(func)\n"
          ]
        },
        {
          "output_type": "execute_result",
          "data": {
            "text/plain": [
              "                     age         fnlwgt  education-num  capital-gain  \\\n",
              "education                                                              \n",
              " 10th          37.429796  196832.465166            6.0    404.574491   \n",
              " 11th          32.355745  194928.077447            7.0    215.097872   \n",
              " 12th          32.000000  199097.508083            8.0    284.087760   \n",
              " 1st-4th       46.142857  239303.000000            2.0    125.875000   \n",
              " 5th-6th       42.885886  232448.333333            3.0    176.021021   \n",
              " 7th-8th       48.445820  188079.171827            4.0    233.939628   \n",
              " 9th           41.060311  202485.066148            5.0    342.089494   \n",
              " Assoc-acdm    37.381443  193424.093721           12.0    640.399250   \n",
              " Assoc-voc     38.553546  181936.016643           11.0    715.051375   \n",
              " Bachelors     38.904949  188055.914846           13.0   1756.299533   \n",
              " Doctorate     47.702179  186698.760291           16.0   4770.145278   \n",
              " HS-grad       38.974479  189538.739739            9.0    576.800114   \n",
              " Masters       44.049913  179852.362739           14.0   2562.563552   \n",
              " Preschool     42.764706  235889.372549            1.0    898.392157   \n",
              " Prof-school   44.746528  185663.706597           15.0  10414.416667   \n",
              " Some-college  35.756275  188742.922370           10.0    598.824167   \n",
              "\n",
              "               capital-loss  hours-per-week  \n",
              "education                                    \n",
              " 10th             56.845659       37.052519  \n",
              " 11th             50.079149       33.925957  \n",
              " 12th             32.337182       35.780600  \n",
              " 1st-4th          48.327381       38.255952  \n",
              " 5th-6th          68.252252       38.897898  \n",
              " 7th-8th          65.668731       39.366873  \n",
              " 9th              28.998054       38.044747  \n",
              " Assoc-acdm       93.418932       40.504217  \n",
              " Assoc-voc        72.754703       41.610709  \n",
              " Bachelors       118.350327       42.614006  \n",
              " Doctorate       262.845036       46.973366  \n",
              " HS-grad          70.466622       40.575374  \n",
              " Masters         166.719675       43.836332  \n",
              " Preschool        66.490196       36.647059  \n",
              " Prof-school     231.203125       47.425347  \n",
              " Some-college     71.637087       38.852284  "
            ],
            "text/html": [
              "\n",
              "  <div id=\"df-1833e482-5cb3-4ceb-b1ba-008f079ca3f7\">\n",
              "    <div class=\"colab-df-container\">\n",
              "      <div>\n",
              "<style scoped>\n",
              "    .dataframe tbody tr th:only-of-type {\n",
              "        vertical-align: middle;\n",
              "    }\n",
              "\n",
              "    .dataframe tbody tr th {\n",
              "        vertical-align: top;\n",
              "    }\n",
              "\n",
              "    .dataframe thead th {\n",
              "        text-align: right;\n",
              "    }\n",
              "</style>\n",
              "<table border=\"1\" class=\"dataframe\">\n",
              "  <thead>\n",
              "    <tr style=\"text-align: right;\">\n",
              "      <th></th>\n",
              "      <th>age</th>\n",
              "      <th>fnlwgt</th>\n",
              "      <th>education-num</th>\n",
              "      <th>capital-gain</th>\n",
              "      <th>capital-loss</th>\n",
              "      <th>hours-per-week</th>\n",
              "    </tr>\n",
              "    <tr>\n",
              "      <th>education</th>\n",
              "      <th></th>\n",
              "      <th></th>\n",
              "      <th></th>\n",
              "      <th></th>\n",
              "      <th></th>\n",
              "      <th></th>\n",
              "    </tr>\n",
              "  </thead>\n",
              "  <tbody>\n",
              "    <tr>\n",
              "      <th>10th</th>\n",
              "      <td>37.429796</td>\n",
              "      <td>196832.465166</td>\n",
              "      <td>6.0</td>\n",
              "      <td>404.574491</td>\n",
              "      <td>56.845659</td>\n",
              "      <td>37.052519</td>\n",
              "    </tr>\n",
              "    <tr>\n",
              "      <th>11th</th>\n",
              "      <td>32.355745</td>\n",
              "      <td>194928.077447</td>\n",
              "      <td>7.0</td>\n",
              "      <td>215.097872</td>\n",
              "      <td>50.079149</td>\n",
              "      <td>33.925957</td>\n",
              "    </tr>\n",
              "    <tr>\n",
              "      <th>12th</th>\n",
              "      <td>32.000000</td>\n",
              "      <td>199097.508083</td>\n",
              "      <td>8.0</td>\n",
              "      <td>284.087760</td>\n",
              "      <td>32.337182</td>\n",
              "      <td>35.780600</td>\n",
              "    </tr>\n",
              "    <tr>\n",
              "      <th>1st-4th</th>\n",
              "      <td>46.142857</td>\n",
              "      <td>239303.000000</td>\n",
              "      <td>2.0</td>\n",
              "      <td>125.875000</td>\n",
              "      <td>48.327381</td>\n",
              "      <td>38.255952</td>\n",
              "    </tr>\n",
              "    <tr>\n",
              "      <th>5th-6th</th>\n",
              "      <td>42.885886</td>\n",
              "      <td>232448.333333</td>\n",
              "      <td>3.0</td>\n",
              "      <td>176.021021</td>\n",
              "      <td>68.252252</td>\n",
              "      <td>38.897898</td>\n",
              "    </tr>\n",
              "    <tr>\n",
              "      <th>7th-8th</th>\n",
              "      <td>48.445820</td>\n",
              "      <td>188079.171827</td>\n",
              "      <td>4.0</td>\n",
              "      <td>233.939628</td>\n",
              "      <td>65.668731</td>\n",
              "      <td>39.366873</td>\n",
              "    </tr>\n",
              "    <tr>\n",
              "      <th>9th</th>\n",
              "      <td>41.060311</td>\n",
              "      <td>202485.066148</td>\n",
              "      <td>5.0</td>\n",
              "      <td>342.089494</td>\n",
              "      <td>28.998054</td>\n",
              "      <td>38.044747</td>\n",
              "    </tr>\n",
              "    <tr>\n",
              "      <th>Assoc-acdm</th>\n",
              "      <td>37.381443</td>\n",
              "      <td>193424.093721</td>\n",
              "      <td>12.0</td>\n",
              "      <td>640.399250</td>\n",
              "      <td>93.418932</td>\n",
              "      <td>40.504217</td>\n",
              "    </tr>\n",
              "    <tr>\n",
              "      <th>Assoc-voc</th>\n",
              "      <td>38.553546</td>\n",
              "      <td>181936.016643</td>\n",
              "      <td>11.0</td>\n",
              "      <td>715.051375</td>\n",
              "      <td>72.754703</td>\n",
              "      <td>41.610709</td>\n",
              "    </tr>\n",
              "    <tr>\n",
              "      <th>Bachelors</th>\n",
              "      <td>38.904949</td>\n",
              "      <td>188055.914846</td>\n",
              "      <td>13.0</td>\n",
              "      <td>1756.299533</td>\n",
              "      <td>118.350327</td>\n",
              "      <td>42.614006</td>\n",
              "    </tr>\n",
              "    <tr>\n",
              "      <th>Doctorate</th>\n",
              "      <td>47.702179</td>\n",
              "      <td>186698.760291</td>\n",
              "      <td>16.0</td>\n",
              "      <td>4770.145278</td>\n",
              "      <td>262.845036</td>\n",
              "      <td>46.973366</td>\n",
              "    </tr>\n",
              "    <tr>\n",
              "      <th>HS-grad</th>\n",
              "      <td>38.974479</td>\n",
              "      <td>189538.739739</td>\n",
              "      <td>9.0</td>\n",
              "      <td>576.800114</td>\n",
              "      <td>70.466622</td>\n",
              "      <td>40.575374</td>\n",
              "    </tr>\n",
              "    <tr>\n",
              "      <th>Masters</th>\n",
              "      <td>44.049913</td>\n",
              "      <td>179852.362739</td>\n",
              "      <td>14.0</td>\n",
              "      <td>2562.563552</td>\n",
              "      <td>166.719675</td>\n",
              "      <td>43.836332</td>\n",
              "    </tr>\n",
              "    <tr>\n",
              "      <th>Preschool</th>\n",
              "      <td>42.764706</td>\n",
              "      <td>235889.372549</td>\n",
              "      <td>1.0</td>\n",
              "      <td>898.392157</td>\n",
              "      <td>66.490196</td>\n",
              "      <td>36.647059</td>\n",
              "    </tr>\n",
              "    <tr>\n",
              "      <th>Prof-school</th>\n",
              "      <td>44.746528</td>\n",
              "      <td>185663.706597</td>\n",
              "      <td>15.0</td>\n",
              "      <td>10414.416667</td>\n",
              "      <td>231.203125</td>\n",
              "      <td>47.425347</td>\n",
              "    </tr>\n",
              "    <tr>\n",
              "      <th>Some-college</th>\n",
              "      <td>35.756275</td>\n",
              "      <td>188742.922370</td>\n",
              "      <td>10.0</td>\n",
              "      <td>598.824167</td>\n",
              "      <td>71.637087</td>\n",
              "      <td>38.852284</td>\n",
              "    </tr>\n",
              "  </tbody>\n",
              "</table>\n",
              "</div>\n",
              "      <button class=\"colab-df-convert\" onclick=\"convertToInteractive('df-1833e482-5cb3-4ceb-b1ba-008f079ca3f7')\"\n",
              "              title=\"Convert this dataframe to an interactive table.\"\n",
              "              style=\"display:none;\">\n",
              "        \n",
              "  <svg xmlns=\"http://www.w3.org/2000/svg\" height=\"24px\"viewBox=\"0 0 24 24\"\n",
              "       width=\"24px\">\n",
              "    <path d=\"M0 0h24v24H0V0z\" fill=\"none\"/>\n",
              "    <path d=\"M18.56 5.44l.94 2.06.94-2.06 2.06-.94-2.06-.94-.94-2.06-.94 2.06-2.06.94zm-11 1L8.5 8.5l.94-2.06 2.06-.94-2.06-.94L8.5 2.5l-.94 2.06-2.06.94zm10 10l.94 2.06.94-2.06 2.06-.94-2.06-.94-.94-2.06-.94 2.06-2.06.94z\"/><path d=\"M17.41 7.96l-1.37-1.37c-.4-.4-.92-.59-1.43-.59-.52 0-1.04.2-1.43.59L10.3 9.45l-7.72 7.72c-.78.78-.78 2.05 0 2.83L4 21.41c.39.39.9.59 1.41.59.51 0 1.02-.2 1.41-.59l7.78-7.78 2.81-2.81c.8-.78.8-2.07 0-2.86zM5.41 20L4 18.59l7.72-7.72 1.47 1.35L5.41 20z\"/>\n",
              "  </svg>\n",
              "      </button>\n",
              "      \n",
              "  <style>\n",
              "    .colab-df-container {\n",
              "      display:flex;\n",
              "      flex-wrap:wrap;\n",
              "      gap: 12px;\n",
              "    }\n",
              "\n",
              "    .colab-df-convert {\n",
              "      background-color: #E8F0FE;\n",
              "      border: none;\n",
              "      border-radius: 50%;\n",
              "      cursor: pointer;\n",
              "      display: none;\n",
              "      fill: #1967D2;\n",
              "      height: 32px;\n",
              "      padding: 0 0 0 0;\n",
              "      width: 32px;\n",
              "    }\n",
              "\n",
              "    .colab-df-convert:hover {\n",
              "      background-color: #E2EBFA;\n",
              "      box-shadow: 0px 1px 2px rgba(60, 64, 67, 0.3), 0px 1px 3px 1px rgba(60, 64, 67, 0.15);\n",
              "      fill: #174EA6;\n",
              "    }\n",
              "\n",
              "    [theme=dark] .colab-df-convert {\n",
              "      background-color: #3B4455;\n",
              "      fill: #D2E3FC;\n",
              "    }\n",
              "\n",
              "    [theme=dark] .colab-df-convert:hover {\n",
              "      background-color: #434B5C;\n",
              "      box-shadow: 0px 1px 3px 1px rgba(0, 0, 0, 0.15);\n",
              "      filter: drop-shadow(0px 1px 2px rgba(0, 0, 0, 0.3));\n",
              "      fill: #FFFFFF;\n",
              "    }\n",
              "  </style>\n",
              "\n",
              "      <script>\n",
              "        const buttonEl =\n",
              "          document.querySelector('#df-1833e482-5cb3-4ceb-b1ba-008f079ca3f7 button.colab-df-convert');\n",
              "        buttonEl.style.display =\n",
              "          google.colab.kernel.accessAllowed ? 'block' : 'none';\n",
              "\n",
              "        async function convertToInteractive(key) {\n",
              "          const element = document.querySelector('#df-1833e482-5cb3-4ceb-b1ba-008f079ca3f7');\n",
              "          const dataTable =\n",
              "            await google.colab.kernel.invokeFunction('convertToInteractive',\n",
              "                                                     [key], {});\n",
              "          if (!dataTable) return;\n",
              "\n",
              "          const docLinkHtml = 'Like what you see? Visit the ' +\n",
              "            '<a target=\"_blank\" href=https://colab.research.google.com/notebooks/data_table.ipynb>data table notebook</a>'\n",
              "            + ' to learn more about interactive tables.';\n",
              "          element.innerHTML = '';\n",
              "          dataTable['output_type'] = 'display_data';\n",
              "          await google.colab.output.renderOutput(dataTable, element);\n",
              "          const docLink = document.createElement('div');\n",
              "          docLink.innerHTML = docLinkHtml;\n",
              "          element.appendChild(docLink);\n",
              "        }\n",
              "      </script>\n",
              "    </div>\n",
              "  </div>\n",
              "  "
            ]
          },
          "metadata": {},
          "execution_count": 124
        }
      ]
    },
    {
      "cell_type": "code",
      "source": [
        "income_data.groupby([\"education\", \"sex\"]).mean()"
      ],
      "metadata": {
        "colab": {
          "base_uri": "https://localhost:8080/",
          "height": 1000
        },
        "id": "sikk1jgQX7T7",
        "outputId": "c183d912-a25f-4ec9-979d-635f9c64791f"
      },
      "execution_count": 126,
      "outputs": [
        {
          "output_type": "execute_result",
          "data": {
            "text/plain": [
              "                             age         fnlwgt  education-num  capital-gain  \\\n",
              "education     sex                                                              \n",
              " 10th          Female  35.447458  187333.010169            6.0    174.901695   \n",
              "               Male    38.346395  201224.846395            6.0    510.771160   \n",
              " 11th          Female  30.546296  193806.465278            7.0    128.108796   \n",
              "               Male    33.407806  195580.212651            7.0    265.675639   \n",
              " 12th          Female  29.756944  182910.145833            8.0    174.729167   \n",
              "               Male    33.117647  207163.183391            8.0    338.577855   \n",
              " 1st-4th       Female  48.521739  203190.043478            2.0     44.826087   \n",
              "               Male    45.245902  252919.360656            2.0    156.434426   \n",
              " 5th-6th       Female  44.369048  222695.214286            3.0     53.833333   \n",
              "               Male    42.385542  235738.542169            3.0    217.240964   \n",
              " 7th-8th       Female  49.693750  179158.456250            4.0     94.318750   \n",
              "               Male    48.034979  191016.032922            4.0    279.905350   \n",
              " 9th           Female  42.131944  209924.618056            5.0    780.937500   \n",
              "               Male    40.643243  199589.672973            5.0    171.294595   \n",
              " Assoc-acdm    Female  36.361045  179393.266033           12.0    715.724466   \n",
              "               Male    38.046440  202568.023220           12.0    591.309598   \n",
              " Assoc-voc     Female  37.872000  186482.816000           11.0    455.078000   \n",
              "               Male    38.939909  179358.465986           11.0    862.428571   \n",
              " Bachelors     Female  35.635578  182117.074737           13.0   1051.970970   \n",
              "               Male    40.321734  190629.518201           13.0   2061.521146   \n",
              " Doctorate     Female  45.325581  190958.244186           16.0   3346.779070   \n",
              "               Male    48.327217  185578.529052           16.0   5144.486239   \n",
              " HS-grad       Female  38.678171  187480.505900            9.0    385.584661   \n",
              "               Male    39.115736  190519.953734            9.0    667.957531   \n",
              " Masters       Female  43.074627  176480.835821           14.0   1508.660448   \n",
              "               Male    44.490312  181374.804549           14.0   3038.462511   \n",
              " Preschool     Female  41.750000  198960.375000            1.0    281.750000   \n",
              "               Male    43.228571  252771.200000            1.0   1180.285714   \n",
              " Prof-school   Female  40.195652  170992.695652           15.0   3257.413043   \n",
              "               Male    45.611570  188452.411157           15.0  11774.838843   \n",
              " Some-college  Female  33.740556  185066.259800           10.0    326.562010   \n",
              "               Male    37.017391  191043.193311           10.0    769.162542   \n",
              "\n",
              "                       capital-loss  hours-per-week  \n",
              "education     sex                                    \n",
              " 10th          Female     69.132203       32.111864  \n",
              "               Male       51.164577       39.336991  \n",
              " 11th          Female     21.578704       29.821759  \n",
              "               Male       66.650067       36.312248  \n",
              " 12th          Female     11.951389       31.791667  \n",
              "               Male       42.494810       37.768166  \n",
              " 1st-4th       Female     34.826087       31.978261  \n",
              "               Male       53.418033       40.622951  \n",
              " 5th-6th       Female     53.190476       36.047619  \n",
              "               Male       73.333333       39.859438  \n",
              " 7th-8th       Female     54.775000       36.200000  \n",
              "               Male       69.255144       40.409465  \n",
              " 9th           Female     16.277778       33.916667  \n",
              "               Male       33.948649       39.651351  \n",
              " Assoc-acdm    Female     68.472684       37.358670  \n",
              "               Male      109.676471       42.554180  \n",
              " Assoc-voc     Female     57.258000       37.830000  \n",
              "               Male       81.539683       43.753968  \n",
              " Bachelors     Female     75.046943       39.329216  \n",
              "               Male      137.115899       44.037473  \n",
              " Doctorate     Female    309.511628       47.302326  \n",
              "               Male      250.571865       46.886850  \n",
              " HS-grad       Female     53.585251       36.577286  \n",
              "               Male       78.514414       42.481367  \n",
              " Masters       Female    140.595149       41.113806  \n",
              "               Male      178.516428       45.065712  \n",
              " Preschool     Female      0.000000       31.875000  \n",
              "               Male       96.885714       38.828571  \n",
              " Prof-school   Female    157.413043       44.793478  \n",
              "               Male      245.229339       47.925620  \n",
              " Some-college  Female     47.529223       34.574840  \n",
              "               Male       86.719955       41.528428  "
            ],
            "text/html": [
              "\n",
              "  <div id=\"df-f9e98bf9-ec2d-4769-b876-2236fc70a068\">\n",
              "    <div class=\"colab-df-container\">\n",
              "      <div>\n",
              "<style scoped>\n",
              "    .dataframe tbody tr th:only-of-type {\n",
              "        vertical-align: middle;\n",
              "    }\n",
              "\n",
              "    .dataframe tbody tr th {\n",
              "        vertical-align: top;\n",
              "    }\n",
              "\n",
              "    .dataframe thead th {\n",
              "        text-align: right;\n",
              "    }\n",
              "</style>\n",
              "<table border=\"1\" class=\"dataframe\">\n",
              "  <thead>\n",
              "    <tr style=\"text-align: right;\">\n",
              "      <th></th>\n",
              "      <th></th>\n",
              "      <th>age</th>\n",
              "      <th>fnlwgt</th>\n",
              "      <th>education-num</th>\n",
              "      <th>capital-gain</th>\n",
              "      <th>capital-loss</th>\n",
              "      <th>hours-per-week</th>\n",
              "    </tr>\n",
              "    <tr>\n",
              "      <th>education</th>\n",
              "      <th>sex</th>\n",
              "      <th></th>\n",
              "      <th></th>\n",
              "      <th></th>\n",
              "      <th></th>\n",
              "      <th></th>\n",
              "      <th></th>\n",
              "    </tr>\n",
              "  </thead>\n",
              "  <tbody>\n",
              "    <tr>\n",
              "      <th rowspan=\"2\" valign=\"top\">10th</th>\n",
              "      <th>Female</th>\n",
              "      <td>35.447458</td>\n",
              "      <td>187333.010169</td>\n",
              "      <td>6.0</td>\n",
              "      <td>174.901695</td>\n",
              "      <td>69.132203</td>\n",
              "      <td>32.111864</td>\n",
              "    </tr>\n",
              "    <tr>\n",
              "      <th>Male</th>\n",
              "      <td>38.346395</td>\n",
              "      <td>201224.846395</td>\n",
              "      <td>6.0</td>\n",
              "      <td>510.771160</td>\n",
              "      <td>51.164577</td>\n",
              "      <td>39.336991</td>\n",
              "    </tr>\n",
              "    <tr>\n",
              "      <th rowspan=\"2\" valign=\"top\">11th</th>\n",
              "      <th>Female</th>\n",
              "      <td>30.546296</td>\n",
              "      <td>193806.465278</td>\n",
              "      <td>7.0</td>\n",
              "      <td>128.108796</td>\n",
              "      <td>21.578704</td>\n",
              "      <td>29.821759</td>\n",
              "    </tr>\n",
              "    <tr>\n",
              "      <th>Male</th>\n",
              "      <td>33.407806</td>\n",
              "      <td>195580.212651</td>\n",
              "      <td>7.0</td>\n",
              "      <td>265.675639</td>\n",
              "      <td>66.650067</td>\n",
              "      <td>36.312248</td>\n",
              "    </tr>\n",
              "    <tr>\n",
              "      <th rowspan=\"2\" valign=\"top\">12th</th>\n",
              "      <th>Female</th>\n",
              "      <td>29.756944</td>\n",
              "      <td>182910.145833</td>\n",
              "      <td>8.0</td>\n",
              "      <td>174.729167</td>\n",
              "      <td>11.951389</td>\n",
              "      <td>31.791667</td>\n",
              "    </tr>\n",
              "    <tr>\n",
              "      <th>Male</th>\n",
              "      <td>33.117647</td>\n",
              "      <td>207163.183391</td>\n",
              "      <td>8.0</td>\n",
              "      <td>338.577855</td>\n",
              "      <td>42.494810</td>\n",
              "      <td>37.768166</td>\n",
              "    </tr>\n",
              "    <tr>\n",
              "      <th rowspan=\"2\" valign=\"top\">1st-4th</th>\n",
              "      <th>Female</th>\n",
              "      <td>48.521739</td>\n",
              "      <td>203190.043478</td>\n",
              "      <td>2.0</td>\n",
              "      <td>44.826087</td>\n",
              "      <td>34.826087</td>\n",
              "      <td>31.978261</td>\n",
              "    </tr>\n",
              "    <tr>\n",
              "      <th>Male</th>\n",
              "      <td>45.245902</td>\n",
              "      <td>252919.360656</td>\n",
              "      <td>2.0</td>\n",
              "      <td>156.434426</td>\n",
              "      <td>53.418033</td>\n",
              "      <td>40.622951</td>\n",
              "    </tr>\n",
              "    <tr>\n",
              "      <th rowspan=\"2\" valign=\"top\">5th-6th</th>\n",
              "      <th>Female</th>\n",
              "      <td>44.369048</td>\n",
              "      <td>222695.214286</td>\n",
              "      <td>3.0</td>\n",
              "      <td>53.833333</td>\n",
              "      <td>53.190476</td>\n",
              "      <td>36.047619</td>\n",
              "    </tr>\n",
              "    <tr>\n",
              "      <th>Male</th>\n",
              "      <td>42.385542</td>\n",
              "      <td>235738.542169</td>\n",
              "      <td>3.0</td>\n",
              "      <td>217.240964</td>\n",
              "      <td>73.333333</td>\n",
              "      <td>39.859438</td>\n",
              "    </tr>\n",
              "    <tr>\n",
              "      <th rowspan=\"2\" valign=\"top\">7th-8th</th>\n",
              "      <th>Female</th>\n",
              "      <td>49.693750</td>\n",
              "      <td>179158.456250</td>\n",
              "      <td>4.0</td>\n",
              "      <td>94.318750</td>\n",
              "      <td>54.775000</td>\n",
              "      <td>36.200000</td>\n",
              "    </tr>\n",
              "    <tr>\n",
              "      <th>Male</th>\n",
              "      <td>48.034979</td>\n",
              "      <td>191016.032922</td>\n",
              "      <td>4.0</td>\n",
              "      <td>279.905350</td>\n",
              "      <td>69.255144</td>\n",
              "      <td>40.409465</td>\n",
              "    </tr>\n",
              "    <tr>\n",
              "      <th rowspan=\"2\" valign=\"top\">9th</th>\n",
              "      <th>Female</th>\n",
              "      <td>42.131944</td>\n",
              "      <td>209924.618056</td>\n",
              "      <td>5.0</td>\n",
              "      <td>780.937500</td>\n",
              "      <td>16.277778</td>\n",
              "      <td>33.916667</td>\n",
              "    </tr>\n",
              "    <tr>\n",
              "      <th>Male</th>\n",
              "      <td>40.643243</td>\n",
              "      <td>199589.672973</td>\n",
              "      <td>5.0</td>\n",
              "      <td>171.294595</td>\n",
              "      <td>33.948649</td>\n",
              "      <td>39.651351</td>\n",
              "    </tr>\n",
              "    <tr>\n",
              "      <th rowspan=\"2\" valign=\"top\">Assoc-acdm</th>\n",
              "      <th>Female</th>\n",
              "      <td>36.361045</td>\n",
              "      <td>179393.266033</td>\n",
              "      <td>12.0</td>\n",
              "      <td>715.724466</td>\n",
              "      <td>68.472684</td>\n",
              "      <td>37.358670</td>\n",
              "    </tr>\n",
              "    <tr>\n",
              "      <th>Male</th>\n",
              "      <td>38.046440</td>\n",
              "      <td>202568.023220</td>\n",
              "      <td>12.0</td>\n",
              "      <td>591.309598</td>\n",
              "      <td>109.676471</td>\n",
              "      <td>42.554180</td>\n",
              "    </tr>\n",
              "    <tr>\n",
              "      <th rowspan=\"2\" valign=\"top\">Assoc-voc</th>\n",
              "      <th>Female</th>\n",
              "      <td>37.872000</td>\n",
              "      <td>186482.816000</td>\n",
              "      <td>11.0</td>\n",
              "      <td>455.078000</td>\n",
              "      <td>57.258000</td>\n",
              "      <td>37.830000</td>\n",
              "    </tr>\n",
              "    <tr>\n",
              "      <th>Male</th>\n",
              "      <td>38.939909</td>\n",
              "      <td>179358.465986</td>\n",
              "      <td>11.0</td>\n",
              "      <td>862.428571</td>\n",
              "      <td>81.539683</td>\n",
              "      <td>43.753968</td>\n",
              "    </tr>\n",
              "    <tr>\n",
              "      <th rowspan=\"2\" valign=\"top\">Bachelors</th>\n",
              "      <th>Female</th>\n",
              "      <td>35.635578</td>\n",
              "      <td>182117.074737</td>\n",
              "      <td>13.0</td>\n",
              "      <td>1051.970970</td>\n",
              "      <td>75.046943</td>\n",
              "      <td>39.329216</td>\n",
              "    </tr>\n",
              "    <tr>\n",
              "      <th>Male</th>\n",
              "      <td>40.321734</td>\n",
              "      <td>190629.518201</td>\n",
              "      <td>13.0</td>\n",
              "      <td>2061.521146</td>\n",
              "      <td>137.115899</td>\n",
              "      <td>44.037473</td>\n",
              "    </tr>\n",
              "    <tr>\n",
              "      <th rowspan=\"2\" valign=\"top\">Doctorate</th>\n",
              "      <th>Female</th>\n",
              "      <td>45.325581</td>\n",
              "      <td>190958.244186</td>\n",
              "      <td>16.0</td>\n",
              "      <td>3346.779070</td>\n",
              "      <td>309.511628</td>\n",
              "      <td>47.302326</td>\n",
              "    </tr>\n",
              "    <tr>\n",
              "      <th>Male</th>\n",
              "      <td>48.327217</td>\n",
              "      <td>185578.529052</td>\n",
              "      <td>16.0</td>\n",
              "      <td>5144.486239</td>\n",
              "      <td>250.571865</td>\n",
              "      <td>46.886850</td>\n",
              "    </tr>\n",
              "    <tr>\n",
              "      <th rowspan=\"2\" valign=\"top\">HS-grad</th>\n",
              "      <th>Female</th>\n",
              "      <td>38.678171</td>\n",
              "      <td>187480.505900</td>\n",
              "      <td>9.0</td>\n",
              "      <td>385.584661</td>\n",
              "      <td>53.585251</td>\n",
              "      <td>36.577286</td>\n",
              "    </tr>\n",
              "    <tr>\n",
              "      <th>Male</th>\n",
              "      <td>39.115736</td>\n",
              "      <td>190519.953734</td>\n",
              "      <td>9.0</td>\n",
              "      <td>667.957531</td>\n",
              "      <td>78.514414</td>\n",
              "      <td>42.481367</td>\n",
              "    </tr>\n",
              "    <tr>\n",
              "      <th rowspan=\"2\" valign=\"top\">Masters</th>\n",
              "      <th>Female</th>\n",
              "      <td>43.074627</td>\n",
              "      <td>176480.835821</td>\n",
              "      <td>14.0</td>\n",
              "      <td>1508.660448</td>\n",
              "      <td>140.595149</td>\n",
              "      <td>41.113806</td>\n",
              "    </tr>\n",
              "    <tr>\n",
              "      <th>Male</th>\n",
              "      <td>44.490312</td>\n",
              "      <td>181374.804549</td>\n",
              "      <td>14.0</td>\n",
              "      <td>3038.462511</td>\n",
              "      <td>178.516428</td>\n",
              "      <td>45.065712</td>\n",
              "    </tr>\n",
              "    <tr>\n",
              "      <th rowspan=\"2\" valign=\"top\">Preschool</th>\n",
              "      <th>Female</th>\n",
              "      <td>41.750000</td>\n",
              "      <td>198960.375000</td>\n",
              "      <td>1.0</td>\n",
              "      <td>281.750000</td>\n",
              "      <td>0.000000</td>\n",
              "      <td>31.875000</td>\n",
              "    </tr>\n",
              "    <tr>\n",
              "      <th>Male</th>\n",
              "      <td>43.228571</td>\n",
              "      <td>252771.200000</td>\n",
              "      <td>1.0</td>\n",
              "      <td>1180.285714</td>\n",
              "      <td>96.885714</td>\n",
              "      <td>38.828571</td>\n",
              "    </tr>\n",
              "    <tr>\n",
              "      <th rowspan=\"2\" valign=\"top\">Prof-school</th>\n",
              "      <th>Female</th>\n",
              "      <td>40.195652</td>\n",
              "      <td>170992.695652</td>\n",
              "      <td>15.0</td>\n",
              "      <td>3257.413043</td>\n",
              "      <td>157.413043</td>\n",
              "      <td>44.793478</td>\n",
              "    </tr>\n",
              "    <tr>\n",
              "      <th>Male</th>\n",
              "      <td>45.611570</td>\n",
              "      <td>188452.411157</td>\n",
              "      <td>15.0</td>\n",
              "      <td>11774.838843</td>\n",
              "      <td>245.229339</td>\n",
              "      <td>47.925620</td>\n",
              "    </tr>\n",
              "    <tr>\n",
              "      <th rowspan=\"2\" valign=\"top\">Some-college</th>\n",
              "      <th>Female</th>\n",
              "      <td>33.740556</td>\n",
              "      <td>185066.259800</td>\n",
              "      <td>10.0</td>\n",
              "      <td>326.562010</td>\n",
              "      <td>47.529223</td>\n",
              "      <td>34.574840</td>\n",
              "    </tr>\n",
              "    <tr>\n",
              "      <th>Male</th>\n",
              "      <td>37.017391</td>\n",
              "      <td>191043.193311</td>\n",
              "      <td>10.0</td>\n",
              "      <td>769.162542</td>\n",
              "      <td>86.719955</td>\n",
              "      <td>41.528428</td>\n",
              "    </tr>\n",
              "  </tbody>\n",
              "</table>\n",
              "</div>\n",
              "      <button class=\"colab-df-convert\" onclick=\"convertToInteractive('df-f9e98bf9-ec2d-4769-b876-2236fc70a068')\"\n",
              "              title=\"Convert this dataframe to an interactive table.\"\n",
              "              style=\"display:none;\">\n",
              "        \n",
              "  <svg xmlns=\"http://www.w3.org/2000/svg\" height=\"24px\"viewBox=\"0 0 24 24\"\n",
              "       width=\"24px\">\n",
              "    <path d=\"M0 0h24v24H0V0z\" fill=\"none\"/>\n",
              "    <path d=\"M18.56 5.44l.94 2.06.94-2.06 2.06-.94-2.06-.94-.94-2.06-.94 2.06-2.06.94zm-11 1L8.5 8.5l.94-2.06 2.06-.94-2.06-.94L8.5 2.5l-.94 2.06-2.06.94zm10 10l.94 2.06.94-2.06 2.06-.94-2.06-.94-.94-2.06-.94 2.06-2.06.94z\"/><path d=\"M17.41 7.96l-1.37-1.37c-.4-.4-.92-.59-1.43-.59-.52 0-1.04.2-1.43.59L10.3 9.45l-7.72 7.72c-.78.78-.78 2.05 0 2.83L4 21.41c.39.39.9.59 1.41.59.51 0 1.02-.2 1.41-.59l7.78-7.78 2.81-2.81c.8-.78.8-2.07 0-2.86zM5.41 20L4 18.59l7.72-7.72 1.47 1.35L5.41 20z\"/>\n",
              "  </svg>\n",
              "      </button>\n",
              "      \n",
              "  <style>\n",
              "    .colab-df-container {\n",
              "      display:flex;\n",
              "      flex-wrap:wrap;\n",
              "      gap: 12px;\n",
              "    }\n",
              "\n",
              "    .colab-df-convert {\n",
              "      background-color: #E8F0FE;\n",
              "      border: none;\n",
              "      border-radius: 50%;\n",
              "      cursor: pointer;\n",
              "      display: none;\n",
              "      fill: #1967D2;\n",
              "      height: 32px;\n",
              "      padding: 0 0 0 0;\n",
              "      width: 32px;\n",
              "    }\n",
              "\n",
              "    .colab-df-convert:hover {\n",
              "      background-color: #E2EBFA;\n",
              "      box-shadow: 0px 1px 2px rgba(60, 64, 67, 0.3), 0px 1px 3px 1px rgba(60, 64, 67, 0.15);\n",
              "      fill: #174EA6;\n",
              "    }\n",
              "\n",
              "    [theme=dark] .colab-df-convert {\n",
              "      background-color: #3B4455;\n",
              "      fill: #D2E3FC;\n",
              "    }\n",
              "\n",
              "    [theme=dark] .colab-df-convert:hover {\n",
              "      background-color: #434B5C;\n",
              "      box-shadow: 0px 1px 3px 1px rgba(0, 0, 0, 0.15);\n",
              "      filter: drop-shadow(0px 1px 2px rgba(0, 0, 0, 0.3));\n",
              "      fill: #FFFFFF;\n",
              "    }\n",
              "  </style>\n",
              "\n",
              "      <script>\n",
              "        const buttonEl =\n",
              "          document.querySelector('#df-f9e98bf9-ec2d-4769-b876-2236fc70a068 button.colab-df-convert');\n",
              "        buttonEl.style.display =\n",
              "          google.colab.kernel.accessAllowed ? 'block' : 'none';\n",
              "\n",
              "        async function convertToInteractive(key) {\n",
              "          const element = document.querySelector('#df-f9e98bf9-ec2d-4769-b876-2236fc70a068');\n",
              "          const dataTable =\n",
              "            await google.colab.kernel.invokeFunction('convertToInteractive',\n",
              "                                                     [key], {});\n",
              "          if (!dataTable) return;\n",
              "\n",
              "          const docLinkHtml = 'Like what you see? Visit the ' +\n",
              "            '<a target=\"_blank\" href=https://colab.research.google.com/notebooks/data_table.ipynb>data table notebook</a>'\n",
              "            + ' to learn more about interactive tables.';\n",
              "          element.innerHTML = '';\n",
              "          dataTable['output_type'] = 'display_data';\n",
              "          await google.colab.output.renderOutput(dataTable, element);\n",
              "          const docLink = document.createElement('div');\n",
              "          docLink.innerHTML = docLinkHtml;\n",
              "          element.appendChild(docLink);\n",
              "        }\n",
              "      </script>\n",
              "    </div>\n",
              "  </div>\n",
              "  "
            ]
          },
          "metadata": {},
          "execution_count": 126
        }
      ]
    },
    {
      "cell_type": "code",
      "source": [],
      "metadata": {
        "id": "7DxBg5K8YjL5"
      },
      "execution_count": null,
      "outputs": []
    }
  ],
  "metadata": {
    "colab": {
      "provenance": []
    },
    "kernelspec": {
      "display_name": "Python 3",
      "language": "python",
      "name": "python3"
    },
    "language_info": {
      "codemirror_mode": {
        "name": "ipython",
        "version": 3
      },
      "file_extension": ".py",
      "mimetype": "text/x-python",
      "name": "python",
      "nbconvert_exporter": "python",
      "pygments_lexer": "ipython3",
      "version": "3.8.8"
    }
  },
  "nbformat": 4,
  "nbformat_minor": 0
}